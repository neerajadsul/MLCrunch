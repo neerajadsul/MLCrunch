{
 "cells": [
  {
   "cell_type": "markdown",
   "id": "174f09d2",
   "metadata": {},
   "source": [
    "# Vectors and Linear Transformation"
   ]
  },
  {
   "cell_type": "markdown",
   "id": "d169dc41",
   "metadata": {},
   "source": [
    "## Distance between two points\n",
    "* Taxicab Distance\n",
    "\n",
    "\\begin{equation}\n",
    "L_1 norm = | (a, b) | = |a| + |b|\n",
    "\\end{equation}\n",
    "\n",
    "* Eucliadean distance\n",
    "\\begin{equation}\n",
    "L_2 norm = |(a, b) |_2 = \\sqrt{a^2 + b^2}\n",
    "\\end{equation}"
   ]
  },
  {
   "cell_type": "markdown",
   "id": "cabe451b",
   "metadata": {},
   "source": [
    "## Direction of a vector\n",
    "\n",
    "If vector $ \\vec{u} = (a,b) $ then direction is $\\theta = \\arctan(\\frac{b}{a}) $"
   ]
  },
  {
   "cell_type": "markdown",
   "id": "cbc5fa08",
   "metadata": {},
   "source": [
    "## Distance between two vectors\n",
    "* Vectors can be added and substracted\n",
    "\n",
    "If $\\vec{u} = (a_1, b_1)$ and $\\vec{v} = (a_2, b_2)$ then\n",
    "$\\vec{u} - \\vec{v} = (a_1 - a_2, b_1 - b_2)$\n",
    "\n",
    "Therefore the distance between vectors is,\n",
    "\n",
    "\\begin{equation}\n",
    "L_1distance = |u - v |_1 = |a_1 - a_2| + | b_1 - b_2 |\n",
    "\\end{equation}\n",
    "\n",
    "\\begin{equation}\n",
    "L_2distance = |u - v |_2 = \\sqrt{|a_1 - a_2|^2 + | b_1 - b_2 |^2}\n",
    "\\end{equation}\n",
    "\n",
    "\\begin{equation}\n",
    "CosineDistance = \\cos({\\theta})\n",
    "\\end{equation}\n"
   ]
  },
  {
   "cell_type": "markdown",
   "id": "bb0d39de",
   "metadata": {},
   "source": [
    "## Dot Product of Vectors\n",
    "\n",
    "For vector $ \\vec{u} = (a,b) $, its L2-norm is squar root of the dot-product of itself,\n",
    "\n",
    "\\begin{equation}\n",
    "L_2 norm = |\\vec{u}|_2 = \\sqrt{\\vec{u}\\cdot\\vec{u}} = \\sqrt{\\langle\\vec{u}, \\vec{u}\\rangle}\n",
    "\\end{equation}\n",
    "\n",
    "* $\\langle\\vec{u}, \\vec{u}\\rangle = 0$ for orthogonal vectors.\n",
    "* $\\langle\\vec{u}, \\vec{u}\\rangle > 0$ for vector on right side, projection on the vector.\n",
    "* $\\langle\\vec{u}, \\vec{u}\\rangle < 0$ for vector on left side, projection on flipped vector.\n",
    "\n",
    "### Geometric definition of dot product\n",
    "\n",
    "$\\langle\\vec{u}, \\vec{v}\\rangle = |\\vec{u}| |\\vec{v}| \\cos{(\\theta)}$\n",
    "\n",
    "Hence,\n",
    "$ \\cos{(\\theta) = \\frac{\\langle\\vec{u}, \\vec{v}\\rangle}{|\\vec{u}| |\\vec{v}|}} = \\frac{\\vec{u}\\cdot\\vec{v}}{|\\vec{u}| |\\vec{v}|}$"
   ]
  },
  {
   "cell_type": "markdown",
   "id": "1f2ae302",
   "metadata": {},
   "source": [
    "# Linear Transformations"
   ]
  },
  {
   "cell_type": "markdown",
   "id": "b848fdb6",
   "metadata": {},
   "source": [
    "* Dot product of two matrices is linear transformation.\n",
    "* Dot product of two vectors is a scaler\n",
    "\n",
    "* Identity matrix \n",
    "$ M I = M $\n",
    "* Inverse of matrix\n",
    "$ M M^{-1} = I $\n",
    "\n",
    "If $|M|$ = 0 , inverse does not exist."
   ]
  },
  {
   "cell_type": "markdown",
   "id": "ca4c19a4",
   "metadata": {},
   "source": [
    "A transformation $T$ is *linear* if :\n",
    "1. $T(k\\vec{v}) = kT(\\vec{v}) $\n",
    "2. $T(\\vec{v} + \\vec{w}) = T(\\vec{v} + T(\\vec{w} $"
   ]
  },
  {
   "cell_type": "code",
   "execution_count": null,
   "id": "4fcce191",
   "metadata": {},
   "outputs": [],
   "source": []
  },
  {
   "cell_type": "code",
   "execution_count": null,
   "id": "11915427",
   "metadata": {},
   "outputs": [],
   "source": []
  }
 ],
 "metadata": {
  "kernelspec": {
   "display_name": "Python 3 (ipykernel)",
   "language": "python",
   "name": "python3"
  },
  "language_info": {
   "codemirror_mode": {
    "name": "ipython",
    "version": 3
   },
   "file_extension": ".py",
   "mimetype": "text/x-python",
   "name": "python",
   "nbconvert_exporter": "python",
   "pygments_lexer": "ipython3",
   "version": "3.9.2"
  }
 },
 "nbformat": 4,
 "nbformat_minor": 5
}
