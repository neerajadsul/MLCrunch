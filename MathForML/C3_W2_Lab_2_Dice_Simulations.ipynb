{
 "cells": [
  {
   "cell_type": "markdown",
   "id": "56c31ec0",
   "metadata": {},
   "source": [
    "# Lab: Simulate Dice Throws with NumPy 🎲🤖\n",
    "\n",
    "Welcome! This lab shows how you can use Numpy to simulate rolling dice from rolling a single die up to summing the results from multiple rolls. You will also see how to handle situations in which one of the sides of the dice is loaded (it has a greater probability of landing on that side comparing to the rest).\n",
    "\n",
    "Let's get started! "
   ]
  },
  {
   "cell_type": "code",
   "execution_count": null,
   "id": "af4835c6",
   "metadata": {},
   "outputs": [],
   "source": [
    "import numpy as np\n",
    "import seaborn as sns\n",
    "import matplotlib.pyplot as plt"
   ]
  },
  {
   "cell_type": "markdown",
   "id": "0968af94",
   "metadata": {},
   "source": [
    "## Represent a dice\n",
    "\n",
    "The first thing you will need is to define how many sides your dice will have. You can even go a step further and represent a dice by using a NumPy array and assigning to each side a label which will be equal to the number of that side:"
   ]
  },
  {
   "cell_type": "code",
   "execution_count": null,
   "id": "70b01f08",
   "metadata": {},
   "outputs": [],
   "source": [
    "# Define the desired number of sides (try changing this value!)\n",
    "n_sides = 4\n",
    "\n",
    "# Represent a dice by using a numpy array\n",
    "dice = np.array([i for i in range(1, n_sides+1)])\n",
    "\n",
    "dice"
   ]
  },
  {
   "cell_type": "markdown",
   "id": "6be050b4",
   "metadata": {},
   "source": [
    "## Roll the dice\n",
    "\n",
    "With your dice ready it is time to roll it. For now you will assume that the dice is fair, which means the probability of landing on each side is the same (it follows a uniform distribution). To achieve this behaviour you can use the function [np.random.choice](https://numpy.org/doc/stable/reference/random/generated/numpy.random.choice.html), which given a NumPy array returns one of the entries in it randomnly:"
   ]
  },
  {
   "cell_type": "code",
   "execution_count": null,
   "id": "154f10d6",
   "metadata": {},
   "outputs": [],
   "source": [
    "# Run this cell multiple times (every time you should get a different result at random)\n",
    "np.random.choice(dice)"
   ]
  },
  {
   "cell_type": "markdown",
   "id": "12750521",
   "metadata": {},
   "source": [
    "This is great but if you wanted to roll the dice 20 times you will need to run the cell 20 times and record each result. Now you need a way to simulate several rolls at the same time. For this you can define the number of rolls you desire and use a list comprehension to roll the dice as many times as you like, you can also save every roll in a NumPy array:"
   ]
  },
  {
   "cell_type": "code",
   "execution_count": null,
   "id": "a6f516d3",
   "metadata": {},
   "outputs": [],
   "source": [
    "# Roll the dice 20 times\n",
    "n_rolls = 1000000\n",
    "\n",
    "# Save the result of each roll\n",
    "rolls = np.array([np.random.choice(dice) for _ in range(n_rolls)])\n",
    "\n",
    "rolls"
   ]
  },
  {
   "cell_type": "markdown",
   "id": "acc775fb",
   "metadata": {},
   "source": [
    "Now you have a convenient way of keeping track of the result of each roll, nice!\n",
    "\n",
    "What is you would like to know the mean and variance of this process. For this you can use NumPy's functions [np.mean](https://numpy.org/doc/stable/reference/generated/numpy.mean.html) and [np.var](https://numpy.org/doc/stable/reference/generated/numpy.var.html):"
   ]
  },
  {
   "cell_type": "code",
   "execution_count": null,
   "id": "bb5fbb69",
   "metadata": {},
   "outputs": [],
   "source": [
    "# Compute mean of 20 rolls\n",
    "m = np.mean(rolls)\n",
    "\n",
    "# Compute variance of 20 rolls\n",
    "v = np.var(rolls)\n",
    "\n",
    "print(f\"mean of rolls: {m:.2f}\\nvariance of rolls: {v:.2f}\")"
   ]
  },
  {
   "cell_type": "markdown",
   "id": "0f8a9054",
   "metadata": {},
   "source": [
    "You can even check the distribution of the rolls by plotting a histogram of the NumPy array that holds the result of each throw. For this you will use the plotting library Seaborn, concretely the [sns.histplot](https://seaborn.pydata.org/generated/seaborn.histplot.html) function:"
   ]
  },
  {
   "cell_type": "code",
   "execution_count": null,
   "id": "52fe0fd6",
   "metadata": {},
   "outputs": [],
   "source": [
    "# Display histogram of 20 rolls\n",
    "n_rolls_hist = sns.histplot(rolls, discrete=True)\n",
    "n_rolls_hist.set(title=f\"Histogram of {n_rolls} rolls\")\n",
    "plt.show()"
   ]
  },
  {
   "cell_type": "markdown",
   "id": "2d210eb7",
   "metadata": {},
   "source": [
    "You probably didn't get a distribution that looks uniform (since the results are random). This happened because you are only simulating 20 rolls so far. Now try doing the same but for 20000 rolls:"
   ]
  },
  {
   "cell_type": "code",
   "execution_count": null,
   "id": "01b974f5",
   "metadata": {},
   "outputs": [],
   "source": [
    "n_rolls = 20_000\n",
    "\n",
    "rolls = np.array([np.random.choice(dice) for _ in range(n_rolls)])\n",
    "\n",
    "print(f\"mean of rolls: {np.mean(rolls):.2f}\\nvariance of rolls: {np.var(rolls):.2f}\")\n",
    "\n",
    "n_rolls_hist = sns.histplot(rolls, discrete=True)\n",
    "n_rolls_hist.set(title=f\"Histogram of {n_rolls} rolls\")\n",
    "plt.show()"
   ]
  },
  {
   "cell_type": "markdown",
   "id": "00c6a396",
   "metadata": {},
   "source": [
    "Does this plot and the metrics of mean and variance align with what you have learned about the uniform distribution during the course?\n",
    "\n",
    "Simulations are a great way of contrasting results against analytical solutions. For example, in this case the theoretical mean and variance are 3.5 and 2.916 respectively (you can check the formulas to get this results [here](https://en.wikipedia.org/wiki/Discrete_uniform_distribution)). The important thing to keep in mind is that the more simulations you perform the closer your results will be to the analytical values so always choose an appropriate number of simulations! \n",
    "\n",
    "NumPy is quite fast so performing 20 thousand runs is done fairly quick."
   ]
  },
  {
   "cell_type": "markdown",
   "id": "654b7935",
   "metadata": {},
   "source": [
    "## Summing the result of rolling twice\n",
    "\n",
    "Now you want to throw the dice twice and record the sum of the two rolls. For this you can do as before and save all results of the first roll in a NumPy array but this time you will have a second array that saves the results for the second rolls. \n",
    "\n",
    "To get the sum you can simply sum the two arrays. This is possible because NumPy allows for vectorized operations such as this one. When you sum two NumPy arrays you will get a new array that includes the element-wise sum of the elements in the arrays you summed up.\n",
    "\n",
    "Notice that now you can compute the the mean and variance for the first rolls, the second rolls and the sum of rolls. You can also compute the covariance between the first and second rolls:"
   ]
  },
  {
   "cell_type": "code",
   "execution_count": null,
   "id": "5dcce70f",
   "metadata": {},
   "outputs": [],
   "source": [
    "n_rolls = 100_000\n",
    "\n",
    "# First roll (same as before)\n",
    "first_rolls = np.array([np.random.choice(dice) for _ in range(n_rolls)])\n",
    "\n",
    "# Second roll (code is the same but saved in a new numpy array)\n",
    "second_rolls = np.array([np.random.choice(dice) for _ in range(n_rolls)])\n",
    "\n",
    "# Sum both rolls (this is easy since numpy allows vectorization)\n",
    "sum_of_rolls = first_rolls + second_rolls\n",
    "\n",
    "# Print mean, variance and covariance\n",
    "print(f\"mean of first_rolls: {np.mean(first_rolls):.2f}\\nvariance of first_rolls: {np.var(first_rolls):.2f}\\n\")\n",
    "print(f\"mean of second_rolls: {np.mean(second_rolls):.2f}\\nvariance of second_rolls: {np.var(second_rolls):.2f}\\n\")\n",
    "print(f\"mean of sum_of_rolls: {np.mean(sum_of_rolls):.2f}\\nvariance of sum_of_rolls: {np.var(sum_of_rolls):.2f}\\n\")\n",
    "print(f\"covariance between first and second roll:\\n{np.cov(first_rolls, second_rolls)}\")\n",
    "\n",
    "# Plot histogram\n",
    "sum_2_rolls_hist = sns.histplot(sum_of_rolls, stat = \"probability\", discrete=True, )\n",
    "sum_2_rolls_hist.set(title=f\"Histogram of {n_rolls} rolls (sum of rolling twice)\")\n",
    "for i in sum_2_rolls_hist.containers:\n",
    "    sum_2_rolls_hist.bar_label(i,)\n",
    "plt.show()"
   ]
  },
  {
   "cell_type": "code",
   "execution_count": null,
   "id": "85a98299",
   "metadata": {},
   "outputs": [],
   "source": [
    "probs_list = []\n",
    "for i in sum_2_rolls_hist.containers:\n",
    "    probs_list.append(sum_2_rolls_hist.bar_label(i,))\n",
    "\n",
    "probs_list = probs_list[1]\n",
    "values = []\n",
    "for p in probs_list:\n",
    "    values.append(float(p.get_text()))\n",
    "len(values)"
   ]
  },
  {
   "cell_type": "code",
   "execution_count": null,
   "id": "b11bc49a",
   "metadata": {},
   "outputs": [],
   "source": [
    "for i in range(3):\n",
    "    print(values[i] + values[-i])\n",
    "print(values[3])\n",
    "print(3.47877032e-04)\n",
    "print()\n",
    "print(values[0]+values[-1])\n",
    "print(values[1]+values[-2])\n",
    "print(values[2]+values[-3])\n",
    "print(values[-4])"
   ]
  },
  {
   "cell_type": "markdown",
   "id": "1bf4dbd4",
   "metadata": {},
   "source": [
    "The resulting plot looks pretty Gaussian, as you might expect. Notice that the covariance between the first and second rolls is very close to zero since these two processes are independant of one another.\n",
    "\n",
    "Also notice that you can change the stat displayed in the histogram by changing the `stat` parameter of the `sns.histplot` function. In the previous exercises you were displaying the frequency but in this latter one you are plotting the probability, which makes more sense in this context. To check what other stats are available you can check the [docs](https://seaborn.pydata.org/generated/seaborn.histplot.html)."
   ]
  },
  {
   "cell_type": "markdown",
   "id": "f70efe53",
   "metadata": {},
   "source": [
    "## Using loaded dice\n",
    "\n",
    "So far you have only simulated dice that are fair (all of the sides on them have the same probability of showing up), but what about simulating loaded dice (one or more of the sides have a greater probability of showing up)?\n",
    "\n",
    "It is actually pretty simple. [np.random.choice](https://numpy.org/doc/stable/reference/random/generated/numpy.random.choice.html) has support for these kind of scenarios by having a parameter `p` you can set. This parameter controls the probability of selecting each one of the entries in the array.\n",
    "\n",
    "To see it in action, code a function that returns the probabilities of the dice landing on each side given that one of the sides must have twice as much probability as the rest of them:"
   ]
  },
  {
   "cell_type": "code",
   "execution_count": null,
   "id": "84478b71",
   "metadata": {},
   "outputs": [],
   "source": [
    "def load_dice(n_sides, loaded_number):\n",
    "    \n",
    "    # All probabilities are initially the same\n",
    "    probs = np.array([1/(n_sides+1) for _ in range(n_sides)])\n",
    "    \n",
    "    # Assign the loaded side a probability that is twice as the other ones\n",
    "    probs[loaded_number-1] = 1 - sum(probs[:-1])\n",
    "    \n",
    "    # Check that all probabilities sum up to 1\n",
    "    if not np.isclose(sum(probs), 1):\n",
    "        print(\"All probabilities should add up to 1\")\n",
    "        return\n",
    "    \n",
    "    return probs "
   ]
  },
  {
   "cell_type": "markdown",
   "id": "45768e32",
   "metadata": {},
   "source": [
    "Before using this function, check how the probabilities of a fair dice would look like:"
   ]
  },
  {
   "cell_type": "code",
   "execution_count": null,
   "id": "c63f659b",
   "metadata": {},
   "outputs": [],
   "source": [
    "# Compute same probabilities for every side\n",
    "probs_fair_dice = np.array([1/n_sides]*n_sides)\n",
    "\n",
    "# Plot probabilities\n",
    "fair_dice_sides = sns.barplot(x=dice, y=probs_fair_dice)\n",
    "fair_dice_sides.set(title=f\"Histogram for fair dice with {n_sides} sides\")\n",
    "fair_dice_sides.set_ylim(0,0.5)\n",
    "plt.show()"
   ]
  },
  {
   "cell_type": "markdown",
   "id": "8bbf1913",
   "metadata": {},
   "source": [
    "Now get the probabilities by using the `load_dice` function. Try changing the loaded side!"
   ]
  },
  {
   "cell_type": "code",
   "execution_count": null,
   "id": "67536017",
   "metadata": {},
   "outputs": [],
   "source": [
    "# Get probabilities if dice is loaded towards side 2\n",
    "probs_loaded_dice = load_dice(n_sides, loaded_number=3)\n",
    "\n",
    "# Plot probabilities\n",
    "loaded_dice_sides = sns.barplot(x=dice, y=probs_loaded_dice)\n",
    "loaded_dice_sides.set(title=f\"Histogram for loaded dice with {n_sides} sides\")\n",
    "loaded_dice_sides.set_ylim(0,0.5)\n",
    "for i in loaded_dice_sides.containers:\n",
    "    loaded_dice_sides.bar_label(i,)\n",
    "plt.show()"
   ]
  },
  {
   "cell_type": "markdown",
   "id": "7cdf0ec5",
   "metadata": {},
   "source": [
    "Now, feed the `probs_loaded_dice` array into `np.random.choice` and see how this affect the metrics and plot:"
   ]
  },
  {
   "cell_type": "code",
   "execution_count": null,
   "id": "d98459f9",
   "metadata": {},
   "outputs": [],
   "source": [
    "n_rolls = 20_000\n",
    "\n",
    "# Notice that the p parameter is being set\n",
    "first_rolls = np.array([np.random.choice(dice, p=probs_loaded_dice) for _ in range(n_rolls)])\n",
    "\n",
    "second_rolls = np.array([np.random.choice(dice, p=probs_loaded_dice) for _ in range(n_rolls)])\n",
    "\n",
    "sum_of_rolls = first_rolls + second_rolls\n",
    "\n",
    "print(f\"mean of first_rolls: {np.mean(first_rolls):.2f}\\nvariance of first_rolls: {np.var(first_rolls):.2f}\\n\")\n",
    "print(f\"mean of second_rolls: {np.mean(second_rolls):.2f}\\nvariance of second_rolls: {np.var(second_rolls):.2f}\\n\")\n",
    "print(f\"mean of sum_of_rolls: {np.mean(sum_of_rolls):.2f}\\nvariance of sum_of_rolls: {np.var(sum_of_rolls):.2f}\\n\")\n",
    "print(f\"covariance between first and second roll:\\n{np.cov(first_rolls, second_rolls)}\")\n",
    "\n",
    "# Plot histogram\n",
    "loaded_rolls_hist = sns.histplot(sum_of_rolls, stat = \"probability\", discrete=True, cumulative=True)\n",
    "loaded_rolls_hist.set(title=f\"Histogram of {n_rolls} rolls (sum of rolling twice a loaded dice)\")\n",
    "loaded_rolls_hist.set_xticks(range(min(sum_of_rolls),max(sum_of_rolls)+1))\n",
    "for i in loaded_rolls_hist.containers:\n",
    "    loaded_rolls_hist.bar_label(i,)\n",
    "plt.show()"
   ]
  },
  {
   "cell_type": "markdown",
   "id": "5af6e690",
   "metadata": {},
   "source": [
    "Now the histogram is skewed towards some values since some sums are now more likely than others. Try changing the loaded side and see how the histogram changes!\n",
    "\n",
    "Notice that covariance is still very close to zero since there is not any dependance between rolls of the dice."
   ]
  },
  {
   "cell_type": "markdown",
   "id": "06b40238",
   "metadata": {},
   "source": [
    "## Dependant Rolls\n",
    "\n",
    "To finish this lab you will now simulate the scenario in which the second roll depends on the result of the first one. Say that you are playing a variant of the game you have played so far and you only roll the dice a second time if the result of the first roll is greater or equal to 4.\n",
    "\n",
    "Before doing the simulations reflect on what might happen in this scenario. Some behavior you will probably see:\n",
    "\n",
    "- 1 is now a possible result since if you get a 1 in the first roll you don't roll again\n",
    "- 1, 2 and 3 now have a greater chance of showing up\n",
    "- 4 is now not a possible result since you need to roll again if you get a 4 in the first roll\n",
    "\n",
    "To achieve this behaviour you can use the [np.where](https://numpy.org/doc/stable/reference/generated/numpy.where.html) function, which given a condition can be used to zero-out the elements that don't meet its criteria:"
   ]
  },
  {
   "cell_type": "code",
   "execution_count": null,
   "id": "f6ea0bed",
   "metadata": {},
   "outputs": [],
   "source": [
    "n_rolls = 20_000\n",
    "\n",
    "first_rolls = np.array([np.random.choice(dice) for _ in range(n_rolls)])\n",
    "\n",
    "second_rolls = np.array([np.random.choice(dice) for _ in range(n_rolls)])\n",
    "\n",
    "# Preserve the result of the second throw only if the first roll was greater or equal to 4\n",
    "second_rolls = np.where(first_rolls<=4, second_rolls, 0)\n",
    "\n",
    "sum_of_rolls = first_rolls + second_rolls\n",
    "\n",
    "print(f\"mean of first_rolls: {np.mean(first_rolls):.2f}\\nvariance of first_rolls: {np.var(first_rolls):.2f}\\n\")\n",
    "print(f\"mean of second_rolls: {np.mean(second_rolls):.2f}\\nvariance of second_rolls: {np.var(second_rolls):.2f}\\n\")\n",
    "print(f\"mean of sum_of_rolls: {np.mean(sum_of_rolls):.2f}\\nvariance of sum_of_rolls: {np.var(sum_of_rolls):.2f}\\n\")\n",
    "print(f\"covariance between first and second roll:\\n{np.cov(first_rolls, second_rolls)}\")\n",
    "\n",
    "# Plot histogram\n",
    "dependant_rolls_hist = sns.histplot(sum_of_rolls, stat = \"probability\", discrete=True)\n",
    "dependant_rolls_hist.set(title=f\"Histogram of {n_rolls} rolls (dependant sum of rolling twice)\")\n",
    "dependant_rolls_hist.set_xticks(range(min(sum_of_rolls),max(sum_of_rolls)+1))\n",
    "plt.show()"
   ]
  },
  {
   "cell_type": "markdown",
   "id": "6ca6bb24",
   "metadata": {},
   "source": [
    "## Statistics as a function of number of side of a FAIR dice"
   ]
  },
  {
   "cell_type": "code",
   "execution_count": null,
   "id": "d3880eb3",
   "metadata": {},
   "outputs": [],
   "source": [
    "def two_roll_fair_dice_stats(nsides=6):\n",
    "    dice = np.array([i for i in range(1, nsides+1)])\n",
    "    n_rolls = 100_000\n",
    "\n",
    "    # First roll (same as before)\n",
    "    first_rolls = np.array([np.random.choice(dice) for _ in range(n_rolls)])\n",
    "\n",
    "    # Second roll (code is the same but saved in a new numpy array)\n",
    "    second_rolls = np.array([np.random.choice(dice) for _ in range(n_rolls)])\n",
    "\n",
    "    # Sum both rolls (this is easy since numpy allows vectorization)\n",
    "    sum_of_rolls = first_rolls + second_rolls\n",
    "\n",
    "    # Print mean, variance and covariance\n",
    "    first_roll = np.mean(first_rolls), np.var(first_rolls)\n",
    "    second_roll = np.mean(second_rolls), np.var(second_rolls)\n",
    "    sum_of_rolls = np.mean(sum_of_rolls), np.var(sum_of_rolls)\n",
    "    covariance_two_rolls = np.cov(first_rolls, second_rolls)\n",
    "    \n",
    "    return first_roll, second_roll, sum_of_rolls, covariance_two_rolls[0][1]\n",
    "\n",
    "\n",
    "data = []\n",
    "for nsides in range(4, 65, 2):\n",
    "    print(f'For Die with side: {nsides}')\n",
    "    data.append(two_roll_fair_dice_stats(nsides=nsides))\n",
    "covar = [x[3] for x in data]\n",
    "plt.plot(list(range(len(data))), np.abs(covar), '^')"
   ]
  },
  {
   "cell_type": "code",
   "execution_count": null,
   "id": "5acabd7e",
   "metadata": {},
   "outputs": [],
   "source": [
    "def two_roll_fair_dice_stats(nsides=6):\n",
    "    dice = np.array([i for i in range(1, nsides+1)])\n",
    "    n_rolls = 100_000\n",
    "\n",
    "    # First roll (same as before)\n",
    "    first_rolls = np.array([np.random.choice(dice) for _ in range(n_rolls)])\n",
    "\n",
    "    # Second roll (code is the same but saved in a new numpy array)\n",
    "    second_rolls = np.array([np.random.choice(dice) for _ in range(n_rolls)])\n",
    "\n",
    "    # Sum both rolls (this is easy since numpy allows vectorization)\n",
    "    sum_of_rolls = first_rolls + second_rolls\n",
    "\n",
    "    # Print mean, variance and covariance\n",
    "    first_roll = np.mean(first_rolls), np.var(first_rolls)\n",
    "    second_roll = np.mean(second_rolls), np.var(second_rolls)\n",
    "    sum_of_rolls = np.mean(sum_of_rolls), np.var(sum_of_rolls)\n",
    "    covariance_two_rolls = np.cov(first_rolls, second_rolls)\n",
    "    \n",
    "    return first_roll, second_roll, sum_of_rolls, covariance_two_rolls[0][1]\n",
    "\n",
    "\n",
    "data = []\n",
    "for nsides in range(4, 65, 2):\n",
    "    print(f'For Die with side: {nsides}')\n",
    "    data.append(two_roll_fair_dice_stats(nsides=nsides))\n",
    "print(data)\n",
    "covar = [x[3] for x in data]\n",
    "plt.plot(list(range(len(data))), np.abs(covar), '^')"
   ]
  },
  {
   "cell_type": "markdown",
   "id": "a571b11f",
   "metadata": {},
   "source": [
    "## Statistics as a function of number of side of a LOADED dice"
   ]
  },
  {
   "cell_type": "code",
   "execution_count": null,
   "id": "cb375611",
   "metadata": {},
   "outputs": [],
   "source": [
    "def two_roll_loaded_dice(num_sides, loaded_side):\n",
    "    dice = np.array([i for i in range(1, num_sides+1)])\n",
    "    probs_loaded_dice = load_dice(num_sides, loaded_number=loaded_side)\n",
    "    n_rolls = 100_000\n",
    "\n",
    "    # Notice that the p parameter is being set\n",
    "    first_rolls = np.array([np.random.choice(dice, p=probs_loaded_dice) for _ in range(n_rolls)])\n",
    "\n",
    "    second_rolls = np.array([np.random.choice(dice, p=probs_loaded_dice) for _ in range(n_rolls)])\n",
    "\n",
    "    sum_of_rolls = first_rolls + second_rolls\n",
    "\n",
    "    # Print mean, variance and covariance\n",
    "    first_roll = np.mean(first_rolls), np.var(first_rolls)\n",
    "    second_roll = np.mean(second_rolls), np.var(second_rolls)\n",
    "    sum_of_rolls = np.mean(sum_of_rolls), np.var(sum_of_rolls)\n",
    "    covariance_two_rolls = np.cov(first_rolls, second_rolls)\n",
    "    \n",
    "    return first_roll, second_roll, sum_of_rolls, covariance_two_rolls[0][1]\n",
    "\n",
    "data = []\n",
    "for loaded_side in range(1, 7):\n",
    "    print(f'For Die with loaded side: {loaded_side}')\n",
    "    data.append(two_roll_loaded_dice(6, loaded_side=loaded_side))\n",
    "print(len(data))\n"
   ]
  },
  {
   "cell_type": "code",
   "execution_count": null,
   "id": "43a23278",
   "metadata": {},
   "outputs": [],
   "source": [
    "covar = [x[2] for x in data]\n",
    "plt.plot(list(range(1, len(data)+1)), covar, '^')"
   ]
  },
  {
   "cell_type": "code",
   "execution_count": null,
   "id": "dbc55abe",
   "metadata": {},
   "outputs": [],
   "source": []
  }
 ],
 "metadata": {
  "kernelspec": {
   "display_name": "Python 3 (ipykernel)",
   "language": "python",
   "name": "python3"
  },
  "language_info": {
   "codemirror_mode": {
    "name": "ipython",
    "version": 3
   },
   "file_extension": ".py",
   "mimetype": "text/x-python",
   "name": "python",
   "nbconvert_exporter": "python",
   "pygments_lexer": "ipython3",
   "version": "3.10.13"
  }
 },
 "nbformat": 4,
 "nbformat_minor": 5
}
