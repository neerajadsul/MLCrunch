{
 "cells": [
  {
   "cell_type": "markdown",
   "id": "ca5139b5",
   "metadata": {},
   "source": [
    "## Eigenvalues and Eigenvectors\n",
    "Example of application: Principal Component analysis (PCA) , dimensionality reduction algorithm."
   ]
  },
  {
   "cell_type": "markdown",
   "id": "65d6b559",
   "metadata": {},
   "source": [
    "* Non-singular transformation: a plane to a plane (change of basis)\n",
    "* Singular transformation: dimensionality reduction. (a plane to a line, a plane to a point)"
   ]
  },
  {
   "cell_type": "markdown",
   "id": "eec2ceca",
   "metadata": {},
   "source": [
    "### Determinant as area\n",
    "\n",
    "* Determinant of transformation matrix is the area of the transformed basis plane.\n",
    "* Positive area: clockwise transformation, \n",
    "* Negative area: anticlockwise transformation\n",
    "\n",
    "* $det(AB) = det(A) det(B)$\n",
    "\n",
    "* $det(A) = \\frac{1}{det(A^{-1})}$ when $det(A) \\neq 0$"
   ]
  },
  {
   "cell_type": "code",
   "execution_count": null,
   "id": "46949c02",
   "metadata": {},
   "outputs": [],
   "source": []
  },
  {
   "cell_type": "markdown",
   "id": "1ba5d4a3",
   "metadata": {},
   "source": [
    "## Basis (pl. bases)"
   ]
  },
  {
   "cell_type": "markdown",
   "id": "1f825efb",
   "metadata": {},
   "source": [
    "* Two unit vectors which can traverse any point in a plane are bases vectors. \n",
    "* Almost any two vectors are bases.\n",
    "* The vectors are not bases if they are in the same direction."
   ]
  },
  {
   "cell_type": "markdown",
   "id": "97e42514",
   "metadata": {},
   "source": [
    "### Span of vectors\n",
    "\n",
    "* Span of bases vectors is the plane\n",
    "* Span of colinear vectors is a line, but they are not bases.\n",
    "* Span of a single vector is a line.\n",
    "\n",
    "* **_A basis is minimal spanning set_.** \n",
    "\n",
    "* An n dimensional space has n bases vectors."
   ]
  },
  {
   "cell_type": "code",
   "execution_count": null,
   "id": "a24bf976",
   "metadata": {},
   "outputs": [],
   "source": []
  },
  {
   "cell_type": "markdown",
   "id": "5edd1428",
   "metadata": {},
   "source": [
    "### Characteristic Polynomial for Eigenvalues\n",
    "\n",
    "If $\\lambda$ is Eigenvalue then,\n",
    "\n",
    "\\begin{equation}\n",
    "det |\\begin{bmatrix}\n",
    "a - \\lambda & b \\\\\n",
    "c && d - \\lambda\n",
    "\\end{bmatrix}|\n",
    "= 0\n",
    "\\end{equation}"
   ]
  },
  {
   "cell_type": "markdown",
   "id": "7a0981a5",
   "metadata": {},
   "source": [
    "### Eigenvector relation\n",
    "\n",
    "If $\\lambda$ is Eigenvalue of matrix $A$ then,\n",
    "\n",
    "$ A E = \\lambda E $"
   ]
  },
  {
   "cell_type": "code",
   "execution_count": null,
   "id": "a8ec251b",
   "metadata": {},
   "outputs": [],
   "source": []
  }
 ],
 "metadata": {
  "kernelspec": {
   "display_name": "Python 3 (ipykernel)",
   "language": "python",
   "name": "python3"
  },
  "language_info": {
   "codemirror_mode": {
    "name": "ipython",
    "version": 3
   },
   "file_extension": ".py",
   "mimetype": "text/x-python",
   "name": "python",
   "nbconvert_exporter": "python",
   "pygments_lexer": "ipython3",
   "version": "3.9.2"
  }
 },
 "nbformat": 4,
 "nbformat_minor": 5
}
