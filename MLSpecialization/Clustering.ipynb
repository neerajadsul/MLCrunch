{
 "cells": [
  {
   "cell_type": "markdown",
   "id": "a34d2c3f",
   "metadata": {},
   "source": [
    "# K-means Clustering\n",
    "\n",
    "1. Randomly choose $K$ cluster centroids $\\mu_1, \\mu_2, \\dots, \\mu_K$.\n",
    "2. Assign each point to its closest centroid using squared error distance $min |x^{(i)} - \\mu_k | $\n",
    "3. Recompute the centroid for each cluster with assigned points mean.\n",
    "4. Update assignment of each point to updated closest centroid.\n",
    "5. Stop when there are no more reassignments of points.\n",
    "\n",
    "## Optimization Objective\n",
    "\n",
    "$c^{(i)}$ = index of cluster $(1, 2, \\dots, K)$ to which example $x^{(i)}$ is currently assigned.\n",
    "\n",
    "$\\mu_k$ = cluster centoid $k$\n",
    "\n",
    "$\\mu_{c^{(i)}}$ = cluster centroid of cluter to which example $x^{(i)}$ has been assigned\n",
    "\n",
    "### Cost function\n",
    "$J(c^{(m)}, \\mu_K) = \\frac{1}{m} \\sum_{}^{} || x^{(i)} - \\mu_{c^{(i)}} ||^2 $\n",
    "\n",
    "Also known as distortion function.\n",
    "\n",
    "## Random Initialization\n",
    "\n",
    "```\n",
    "For i = 1 to 100\n",
    "    Randomly initialize K-means using K random samples\n",
    "    Run K-means algorithm to get centroids and assigned points\n",
    "    Compute the cost with distortion funciton.\n",
    "Pick set of clusters with lowest cost.\n",
    "    \n",
    "```\n",
    "\n",
    "### Choosing Number of Clusters\n",
    "#### Practical Method\n",
    "- Choose based on the application requirements. Pick k which makes sense. \n",
    "- Trading off between number of groups vs cost of increase in number of groups.\n",
    "\n",
    "#### Elbow Method\n",
    "- Run K-means with a range of K and choose K value at the elbow of cost function.\n",
    "- Andrew Ng does not use this method."
   ]
  },
  {
   "cell_type": "code",
   "execution_count": null,
   "id": "d67823aa",
   "metadata": {},
   "outputs": [],
   "source": []
  }
 ],
 "metadata": {
  "kernelspec": {
   "display_name": "Python 3 (ipykernel)",
   "language": "python",
   "name": "python3"
  },
  "language_info": {
   "codemirror_mode": {
    "name": "ipython",
    "version": 3
   },
   "file_extension": ".py",
   "mimetype": "text/x-python",
   "name": "python",
   "nbconvert_exporter": "python",
   "pygments_lexer": "ipython3",
   "version": "3.10.0"
  }
 },
 "nbformat": 4,
 "nbformat_minor": 5
}
