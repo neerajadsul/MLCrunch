{
 "cells": [
  {
   "cell_type": "markdown",
   "id": "bcd2d69f",
   "metadata": {},
   "source": [
    "## Overfitting and Underfitting\n",
    "\n",
    "- The model does not fit the data well.\n",
    "- Underfit: high bias, too less features\n",
    "- Overfit: high variance, too many features\n",
    "\n",
    "### Solutions\n",
    "#### Collect more training samples\n",
    "- get more training data \n",
    "#### Use fewer features - Feature Selection\n",
    "\n",
    "## Well fit\n",
    "- Well Fit: generalizes well, low bias, low variance\n"
   ]
  },
  {
   "cell_type": "markdown",
   "id": "988eb88d",
   "metadata": {},
   "source": [
    "## Regularization\n",
    "- Reduce the size of parameters $w_j$\n",
    "- Penalize the cost function with factor $\\lambda$ for larger values of weights $w_j$\n",
    "\n",
    "\n",
    "### Regularized Linear Regression\n",
    "\n",
    "$ f = W \\cdot X + b $\n",
    "\n",
    "Mean Squared Error (MSE) cost function with regularization parameter $\\lambda$ is,\n",
    "\n",
    "$J(W,b) = (1/2m) \\sum_{i=1}^{m} [f_{W,b}(X^{(i)}) - \\hat{y}]^2 + (\\lambda/2m) \\sum_{j=1}^{n} w_j^2$\n",
    "\n",
    "\n",
    "$w_{j1} = w_{j0} - \\alpha (1/m) \\sum_{i=1}^{m} [f_{W,b}(X^{(i)}) - \\hat{y}^{(i)}]X_j^{(i)} + (\\lambda/m) w_{j0} $\n",
    "\n",
    "$b_1 = b_0 - \\alpha (1/m) \\sum_{i=1}^{m} [f_{W,b}(X^{(i)}) - \\hat{y}^{(i)}] $\n"
   ]
  },
  {
   "cell_type": "markdown",
   "id": "b4a5a732",
   "metadata": {},
   "source": [
    "### Regularized Logistic Regression\n",
    "\n",
    "$ f = 1/(1 + \\exp^{-(W \\cdot X + b)}) $\n",
    "\n",
    "$ J(W,b) = (-1/m) \\sum_{i=1}^{m} [y^{(i)} log(f_{W,b}(X^{(i)})) + (1-y^{(i)})(1-f_{W,b}(X^{(i)})] + (\\lambda/2m)\\sum_{j=1}^{n} w_j^2$\n",
    "\n",
    "\n",
    "$w_{j1} = w_{j0} - \\alpha (1/m) \\sum_{i=1}^{m} [f_{W,b}(X^{(i)}) - \\hat{y}^{(i)}]X_j^{(i)} + (\\lambda/m) w_{j0} $\n",
    "\n",
    "$b_1 = b_0 - \\alpha (1/m) \\sum_{i=1}^{m} [f_{W,b}(X^{(i)}) - \\hat{y}^{(i)}] $\n"
   ]
  }
 ],
 "metadata": {
  "kernelspec": {
   "display_name": "Python 3 (ipykernel)",
   "language": "python",
   "name": "python3"
  },
  "language_info": {
   "codemirror_mode": {
    "name": "ipython",
    "version": 3
   },
   "file_extension": ".py",
   "mimetype": "text/x-python",
   "name": "python",
   "nbconvert_exporter": "python",
   "pygments_lexer": "ipython3",
   "version": "3.10.0"
  }
 },
 "nbformat": 4,
 "nbformat_minor": 5
}
