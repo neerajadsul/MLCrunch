{
 "cells": [
  {
   "cell_type": "markdown",
   "id": "440b99ed",
   "metadata": {},
   "source": [
    "## Overfitting and Underfitting\n",
    "\n",
    "- The model does not fit the data well.\n",
    "- Underfit: high bias, too less features\n",
    "- Overfit: high variance, too many features\n",
    "\n",
    "### Solutions\n",
    "#### Collect more training samples\n",
    "- get more training data \n",
    "#### Use fewer features - Feature Selection\n",
    "\n",
    "## Well fit\n",
    "- Well Fit: generalizes well, low bias, low variance\n"
   ]
  },
  {
   "cell_type": "markdown",
   "id": "75060921",
   "metadata": {},
   "source": [
    "## Regularization\n",
    "Reduce the size of parameters $w_j$\n"
   ]
  },
  {
   "cell_type": "code",
   "execution_count": null,
   "id": "f164eb64",
   "metadata": {},
   "outputs": [],
   "source": []
  }
 ],
 "metadata": {
  "kernelspec": {
   "display_name": "Python 3 (ipykernel)",
   "language": "python",
   "name": "python3"
  },
  "language_info": {
   "codemirror_mode": {
    "name": "ipython",
    "version": 3
   },
   "file_extension": ".py",
   "mimetype": "text/x-python",
   "name": "python",
   "nbconvert_exporter": "python",
   "pygments_lexer": "ipython3",
   "version": "3.10.0"
  }
 },
 "nbformat": 4,
 "nbformat_minor": 5
}
