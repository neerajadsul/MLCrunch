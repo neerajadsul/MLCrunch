{
 "cells": [
  {
   "cell_type": "markdown",
   "id": "894c936f",
   "metadata": {},
   "source": [
    "# Machine Learning\n",
    "Teach a machine without explicitly being programmed.\n",
    "\n",
    "## Supervised Learning\n",
    "\n",
    "### Real life examples of successful supervised learning domains.\n",
    "\n",
    "| Input (X) | Output (Y) | Application Domain |\n",
    "|-----------|------------|--------------------|\n",
    "| email | spam ? (0/1)| spam filter |\n",
    "| audio | text transcripts | speech-to-text |\n",
    "| English text | German text| machine translation |\n",
    "| advertisement, user data | click? (0/1)| online advertising |\n",
    "| video, radar info| positional awareness | self-driving cars |\n",
    "| images of product| quality control? (pass/fail) | visual inspection |\n",
    "\n",
    "#### Regression\n",
    "Mapping inputs (X) to a continuous number(Y). E.g. predict house prices from size, postcode, amenities.\n",
    "\n",
    "#### Classification\n",
    "Identify to which class or category (Y) an input (X) belongs. \n",
    "- numeric or non-numeric categories e.g. pass/fail\n",
    "- one or many possible classes"
   ]
  },
  {
   "cell_type": "markdown",
   "id": "886d516f",
   "metadata": {},
   "source": [
    "## Unsupervised Learning\n",
    "- find something interesting in unlabelled data\n",
    "- pattern recognition\n",
    "- clustering e.g. DNA microarray, customer grouping into market segments\n",
    "- dimensionality reduction - compress data using less numbers\n",
    "- reinforced learning"
   ]
  },
  {
   "cell_type": "code",
   "execution_count": null,
   "id": "b3932b11",
   "metadata": {},
   "outputs": [],
   "source": []
  }
 ],
 "metadata": {
  "kernelspec": {
   "display_name": "Python 3 (ipykernel)",
   "language": "python",
   "name": "python3"
  },
  "language_info": {
   "codemirror_mode": {
    "name": "ipython",
    "version": 3
   },
   "file_extension": ".py",
   "mimetype": "text/x-python",
   "name": "python",
   "nbconvert_exporter": "python",
   "pygments_lexer": "ipython3",
   "version": "3.10.0"
  }
 },
 "nbformat": 4,
 "nbformat_minor": 5
}
