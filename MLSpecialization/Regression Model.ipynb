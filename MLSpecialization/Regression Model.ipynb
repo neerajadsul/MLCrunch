{
 "cells": [
  {
   "cell_type": "markdown",
   "id": "2446a70c",
   "metadata": {},
   "source": [
    "# Regression Model\n",
    "\n",
    "### Training Set \n",
    "$m$ = number of training examples\n",
    "\n",
    "$X$ = Input Vector Variable or Feature\n",
    "\n",
    "$Y$ = Output Vector or Target Variable\n",
    "\n",
    "$X^{(i)}, Y^{(i)} \\longrightarrow i^{th}$ training sample\n",
    "\n",
    "### Hypothesis Function\n",
    "\n",
    "$f_{w,b}(X) = w X + b $\n",
    "\n",
    "feature (X) $\\rightarrow$ hypothesis function (model) $\\rightarrow  \\hat{y}$  estimate/prediction"
   ]
  },
  {
   "cell_type": "markdown",
   "id": "a0af2ff6",
   "metadata": {},
   "source": [
    "### Cost Function\n",
    "\n",
    "$ \\hat{y}^{(i)} = f_{w,b}(x^{(i)}) $\n",
    "\n",
    "$ f_{w,b}(x^{(i)}) = w x^{(i)} + b $\n",
    "\n",
    "Mean squared error (MSE) with $m$ number of training samples,\n",
    "\n",
    "$ J(w, b) = \\frac{1}{2m} \\sum_{i=1}^{m} [\\hat{y}^{(i)} - y^{(i)} ]^2$\n",
    "\n",
    "which is,\n",
    "\n",
    "$ J(w, b) = \\frac{1}{2m} \\sum_{i=1}^{m} [f_{w,b}(x^{(i)}) - y^{(i)} ]^2$\n",
    "\n",
    "### Goal\n",
    "\n",
    "minimize $ J(w, b) $\n"
   ]
  },
  {
   "cell_type": "code",
   "execution_count": null,
   "id": "3548fc1c",
   "metadata": {},
   "outputs": [],
   "source": []
  },
  {
   "cell_type": "code",
   "execution_count": null,
   "id": "5e03c2ff",
   "metadata": {},
   "outputs": [],
   "source": []
  }
 ],
 "metadata": {
  "kernelspec": {
   "display_name": "Python 3 (ipykernel)",
   "language": "python",
   "name": "python3"
  },
  "language_info": {
   "codemirror_mode": {
    "name": "ipython",
    "version": 3
   },
   "file_extension": ".py",
   "mimetype": "text/x-python",
   "name": "python",
   "nbconvert_exporter": "python",
   "pygments_lexer": "ipython3",
   "version": "3.10.0"
  }
 },
 "nbformat": 4,
 "nbformat_minor": 5
}
