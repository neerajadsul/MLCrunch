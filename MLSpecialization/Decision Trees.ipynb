{
 "cells": [
  {
   "cell_type": "markdown",
   "id": "a4c6e795",
   "metadata": {},
   "source": [
    "# Decision Trees\n",
    "\n",
    "### Decision 1: How to choose what feature to split on at each node?\n",
    "- Maximize purity or minimize impurity of the split nodes\n",
    "\n",
    "### Decision 2: When to stop splitting?\n",
    "1. When a node is 100% of one class\n",
    "2. When splitting a node will exceed maximum tree depth threshold.\n",
    "3. When improvements in purity score are below a threshold.\n",
    "4. When number of examples in a node is below a threshold."
   ]
  },
  {
   "cell_type": "markdown",
   "id": "d8df8fc6",
   "metadata": {},
   "source": [
    "## Entropy as a Measure of Impurity\n",
    "\n",
    "$p_1$ = fraction of examples that belong to class 1\n",
    "\n",
    "$p_0 = 1-p_1 $ : fraction of examples that do not belong to class 1\n",
    "\n",
    "Therefore entropy $H(p_1)$ is ,\n",
    "\n",
    "$H(p_1) = -p_1 log_2(p_1) - (1-p_1)log_2(1-p_1)$\n"
   ]
  },
  {
   "cell_type": "markdown",
   "id": "64b61a9c",
   "metadata": {},
   "source": [
    "## Choosing a Split\n",
    "Choose when information gain is highest.\n",
    "\n",
    "### Information Gain\n",
    "\n",
    "Information Gain = H(root node) - (Weighted Average of Entropy of Leaf Nodes)\n",
    "\n",
    "Information Gain = $ G(P_1^{root}) - (w^{left} H(P_1^{left}) + w^{right} H(p_1^{right})) $\n",
    "\n",
    "![](figures/information_gain.png)\n",
    "\n",
    "#### One-hot encoding for discrete value features\n",
    "- If there are more than two classes, encode them as one-hot so that the values of the features are 0 or 1.\n",
    "For example if the leaf structure has values simple, germinate, bigerminate then it can be encoded as \n",
    "\n",
    "[simple, germinate, bigerminate] where each feature is either 0 or 1 and only one is true.\n",
    "\n",
    "A simple leaf: [1,0,0]\n",
    "A Germinate leaf: [0,1,0]\n",
    "A bigerminate leaf: [0,0,1]\n",
    "\n",
    "#### Splitting continuous value features\n",
    "If the feature take continuous value for example, lenght and width of the leaf.\n",
    "\n",
    "- Use a threhold to split the samples.\n",
    "- Try multiple thresholds and choose the one with maximum information gain.\n",
    "\n",
    "\n",
    "### Decision Tree Learning Algorithm\n",
    "The goal is to build the tree. Typically build using recursive tree algorithms.\n",
    "\n",
    "1. Start with all examples at the **root node**.\n",
    "2. Calculate **information gain** for all possible features, pick the one with **highest** information gain.\n",
    "3. **Split** the data according to **selected feature**.\n",
    "4. Create **left and right leafs** of the node.\n",
    "5. Treat each leaf node as root node and repeat the process until stop criteria is met.\n",
    "    - **Stop Criteria**\n",
    "    - When a node is 100% of one class\n",
    "    - When splitting a node will exceed maximum tree depth threshold.\n",
    "    - When improvements in purity score are below a threshold.\n",
    "    - When number of examples in a node is below a threshold."
   ]
  },
  {
   "cell_type": "markdown",
   "id": "f0c02c6b",
   "metadata": {},
   "source": [
    "\n"
   ]
  },
  {
   "cell_type": "code",
   "execution_count": null,
   "id": "13fd6966",
   "metadata": {},
   "outputs": [],
   "source": [
    "import numpy as np\n",
    "import matplotlib.pyplot as plt"
   ]
  },
  {
   "cell_type": "code",
   "execution_count": null,
   "id": "a22bda7a",
   "metadata": {},
   "outputs": [],
   "source": [
    "def H(p):\n",
    "    return -p*np.log2(p) - (1-p)*np.log2(1-p)\n",
    "\n",
    "x = np.linspace(0.01, 0.99, 50)\n",
    "y = H(x)\n",
    "plt.plot(x,y)\n",
    "plt.title(r'Entropy H(p)')"
   ]
  },
  {
   "cell_type": "code",
   "execution_count": null,
   "id": "dca034d9",
   "metadata": {},
   "outputs": [],
   "source": []
  }
 ],
 "metadata": {
  "kernelspec": {
   "display_name": "Python 3 (ipykernel)",
   "language": "python",
   "name": "python3"
  },
  "language_info": {
   "codemirror_mode": {
    "name": "ipython",
    "version": 3
   },
   "file_extension": ".py",
   "mimetype": "text/x-python",
   "name": "python",
   "nbconvert_exporter": "python",
   "pygments_lexer": "ipython3",
   "version": "3.10.0"
  }
 },
 "nbformat": 4,
 "nbformat_minor": 5
}
