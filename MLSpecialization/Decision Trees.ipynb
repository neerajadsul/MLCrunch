{
 "cells": [
  {
   "cell_type": "markdown",
   "id": "a4c6e795",
   "metadata": {},
   "source": [
    "# Decision Trees\n",
    "\n",
    "### Decision 1: How to choose what feature to split on at each node?\n",
    "- Maximize purity or minimize impurity of the split nodes\n",
    "\n",
    "### Decision 2: When to stop splitting?\n",
    "1. When a node is 100% of one class\n",
    "2. When splitting a node will exceed maximum tree depth threshold.\n",
    "3. When improvements in purity score are below a threshold.\n",
    "4. When number of examples in a node is below a threshold."
   ]
  },
  {
   "cell_type": "markdown",
   "id": "d8df8fc6",
   "metadata": {},
   "source": [
    "## Entropy as a Measure of Impurity\n",
    "\n",
    "$p_1$ = fraction of examples that belong to class 1\n",
    "\n",
    "$p_0 = 1-p_1 $ : fraction of examples that do not belong to class 1\n",
    "\n",
    "Therefore entropy $H(p_1)$ is ,\n",
    "\n",
    "$H(p_1) = -p_1 log_2(p_1) - (1-p_1)log_2(1-p_1)$\n"
   ]
  },
  {
   "cell_type": "markdown",
   "id": "64b61a9c",
   "metadata": {},
   "source": [
    "## Choosing a Split\n",
    "Choose when information gain is highest.\n",
    "\n",
    "### Information Gain\n",
    "\n",
    "Information Gain = H(root node) - (Weighted Average of Entropy of Leaf Nodes)\n",
    "\n",
    "Information Gain = $ G(P_1^{root}) - (w^{left} H(P_1^{left}) + w^{right} H(p_1^{right})) $\n",
    "\n",
    "![](figures/information_gain.png)\n"
   ]
  },
  {
   "cell_type": "code",
   "execution_count": null,
   "id": "780d3733",
   "metadata": {},
   "outputs": [],
   "source": []
  },
  {
   "cell_type": "code",
   "execution_count": null,
   "id": "13fd6966",
   "metadata": {},
   "outputs": [],
   "source": [
    "import numpy as np\n",
    "import matplotlib.pyplot as plt"
   ]
  },
  {
   "cell_type": "code",
   "execution_count": null,
   "id": "a22bda7a",
   "metadata": {},
   "outputs": [],
   "source": [
    "def H(p):\n",
    "    return -p*np.log2(p) - (1-p)*np.log2(1-p)\n",
    "\n",
    "x = np.linspace(0.01, 0.99, 50)\n",
    "y = H(x)\n",
    "plt.plot(x,y)\n",
    "plt.title(r'Entropy H(p)')"
   ]
  },
  {
   "cell_type": "code",
   "execution_count": null,
   "id": "dca034d9",
   "metadata": {},
   "outputs": [],
   "source": []
  }
 ],
 "metadata": {
  "kernelspec": {
   "display_name": "Python 3 (ipykernel)",
   "language": "python",
   "name": "python3"
  },
  "language_info": {
   "codemirror_mode": {
    "name": "ipython",
    "version": 3
   },
   "file_extension": ".py",
   "mimetype": "text/x-python",
   "name": "python",
   "nbconvert_exporter": "python",
   "pygments_lexer": "ipython3",
   "version": "3.10.0"
  }
 },
 "nbformat": 4,
 "nbformat_minor": 5
}
