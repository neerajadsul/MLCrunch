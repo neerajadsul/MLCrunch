{
 "cells": [
  {
   "cell_type": "markdown",
   "id": "886cf2f3",
   "metadata": {},
   "source": [
    "# Decision Trees\n",
    "\n",
    "### Decision 1: How to choose what feature to split on at each node?\n",
    "- Maximize purity or minimize impurity of the split nodes\n",
    "\n",
    "### Decision 2: When to stop splitting?\n",
    "1. When a node is 100% of one class\n",
    "2. When splitting a node will exceed maximum tree depth threshold.\n",
    "3. When improvements in purity score are below a threshold.\n",
    "4. When number of examples in a node is below a threshold."
   ]
  },
  {
   "cell_type": "code",
   "execution_count": null,
   "id": "a7d66e6b",
   "metadata": {},
   "outputs": [],
   "source": []
  }
 ],
 "metadata": {
  "kernelspec": {
   "display_name": "Python 3 (ipykernel)",
   "language": "python",
   "name": "python3"
  },
  "language_info": {
   "codemirror_mode": {
    "name": "ipython",
    "version": 3
   },
   "file_extension": ".py",
   "mimetype": "text/x-python",
   "name": "python",
   "nbconvert_exporter": "python",
   "pygments_lexer": "ipython3",
   "version": "3.10.0"
  }
 },
 "nbformat": 4,
 "nbformat_minor": 5
}
