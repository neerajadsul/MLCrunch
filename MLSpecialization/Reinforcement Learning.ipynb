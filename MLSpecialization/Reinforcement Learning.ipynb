{
 "cells": [
  {
   "cell_type": "markdown",
   "id": "e6e97d0a",
   "metadata": {},
   "source": [
    "#### Autonomous Helicopter\n",
    "\n",
    "$ Input[\\text{Position of Helicopter}] \\longrightarrow Output[\\text{Movement of control sticks}] $\n",
    "\n",
    "$ \\text{[reward function]} $\n",
    "\n",
    "Currently popular applications:\n",
    "- Robot Control\n",
    "- Factory Optimization\n",
    "- Playing games (including video games)\n",
    "- Financial Trading\n"
   ]
  },
  {
   "cell_type": "markdown",
   "id": "0e871c4e",
   "metadata": {},
   "source": [
    "### Key concepts of Reinforcement Learning\n",
    "\n",
    "- state $S$: current state of the agent e.g. position\n",
    "\n",
    "- action $a$: action taken to change the state\n",
    "\n",
    "- reward $R(S, a)$: reward function for the given state and action\n",
    "\n",
    "- new_state $S'$: new state after the action\n",
    "\n",
    "#### Concept of Return\n",
    "\n",
    "$Return = R_1 + \\gamma R_2 + \\gamma^2 R_3 + \\gamma^3 R_4 + \\dots + \\gamma^{(N-1)} R_N$\n",
    "\n",
    "where $\\gamma$ is discount factor $0<\\gamma\\approx1.00$\n",
    "\n",
    "#### Policy (Controller) $\\Pi$\n",
    "\n",
    "Goal is to come up with a controller that $\\Pi(a)$\n",
    "\n",
    "#### Markov Decision Process (MDP)\n",
    "- future only depends on the current state"
   ]
  },
  {
   "cell_type": "markdown",
   "id": "f80d5614",
   "metadata": {},
   "source": [
    "## State-action value function (Q or Q* function)\n",
    "\n",
    "$Q(S,a)$ = reward for action $a$ once, starting at state $S$ and then **behave optimally after that**.\n",
    "\n",
    "The best possible return from state $S$ is the action $a$ that gives $max_a Q(S,a)$\n",
    "\n",
    "### Bellman Equation\n",
    "\n",
    "$ Q(S,a) = R(s) + \\gamma max Q(S',a') $\n",
    "\n",
    "### Stochastic Environment (random)\n",
    "\n",
    "$\\text{Expected Return} = Average[R_1 + \\gamma R_2 + \\gamma^2 R_3 + \\gamma^3 R_4 + \\dots + \\gamma^{(N-1)} R_N]$\n",
    "\n",
    "where $\\gamma$ is discount factor $0<\\gamma\\approx1.00$\n",
    "\n",
    "#### Stochastic Bellman Equation\n",
    "$ Q(S,a) = R(s) + \\gamma Average[ max Q(S',a') ]$"
   ]
  },
  {
   "cell_type": "code",
   "execution_count": null,
   "id": "1644d6a8",
   "metadata": {},
   "outputs": [],
   "source": []
  }
 ],
 "metadata": {
  "kernelspec": {
   "display_name": "Python 3 (ipykernel)",
   "language": "python",
   "name": "python3"
  },
  "language_info": {
   "codemirror_mode": {
    "name": "ipython",
    "version": 3
   },
   "file_extension": ".py",
   "mimetype": "text/x-python",
   "name": "python",
   "nbconvert_exporter": "python",
   "pygments_lexer": "ipython3",
   "version": "3.10.0"
  }
 },
 "nbformat": 4,
 "nbformat_minor": 5
}
