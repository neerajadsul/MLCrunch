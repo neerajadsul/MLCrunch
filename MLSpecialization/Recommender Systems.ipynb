{
 "cells": [
  {
   "cell_type": "markdown",
   "id": "3e7fbf8f",
   "metadata": {},
   "source": [
    "# Recommender Systems\n",
    "\n",
    "\n",
    "## When feature vector for items is avaialble\n",
    "- Examples of feature vectors for movies are genres, tags, actors, length etc.\n",
    "- Examples of feature vector for food are cuisine, hotness, texture etc.\n",
    "\n",
    "$n_u$ = number of users\n",
    "\n",
    "$m$ = number of items\n",
    "\n",
    "$y(i,j) = 1$ if user $n_j$ has rated item $i$ else 0.\n",
    "\n",
    "$W^{(j)}, b^{(j)}$ = parameters for user $j$\n",
    "\n",
    "$x^{(i)}$ = feature vector for item $i$\n",
    "\n",
    "Rating for $u_j = W \\cdot X + b $\n",
    "\n",
    "$J(w^{(j)}, b^{(j)}) = \\frac{1}{2} \\sum_{i:r(i,j)=1} [w^{(j)} \\cdot x^{(j)} + b^{(j)} - y^{(i,j)}]^2 + \\frac{\\lambda}{2} \\sum_{k=1}^{n_u}(w_k^{(j)})^2$\n",
    "\n",
    "Apply gradient descent for any other optimisation algorithm to learn $w$, $b$ for each user."
   ]
  },
  {
   "cell_type": "markdown",
   "id": "0495aa8a",
   "metadata": {},
   "source": [
    "## Collaborative Filtering\n",
    "\n",
    "Cost function = cost + regularization of $x_k$ + regularization of $w_k$\n",
    "\n",
    "$J(w,x,b) = \\frac{1}{2} \\sum_{i:r(i,j)=1} [w^{(j)} \\cdot x^{(j)} + b^{(j)} - y^{(i,j)}]^2 + \\frac{\\lambda}{2} \\sum_{i=1}^{n_u} \\sum_{k=1}^{n}(w_k^{(j)})^2 + \\frac{\\lambda}{2} \\sum_{i=1}^{n_m} \\sum_{k=1}^{n}(x_k^{(j)})^2$"
   ]
  },
  {
   "cell_type": "markdown",
   "id": "46549898",
   "metadata": {},
   "source": [
    "### Binary labels: favs, likes and clicks\n",
    "\n",
    "Logistic function, \n",
    "\n",
    "where $f(w,b,x) = g(w^{(j)} \\cdot x^{(j)} + b^{(j)})$\n",
    "\n",
    "Loss for a single example,\n",
    "\n",
    "$L(f(w,x,b), y^{(i,j)})= - y^{(i,j)} \\log_2({f(w,x,b)}) - (1-y^{(i,j)})\\log_2(1-f(w,x,b))  $\n",
    "\n",
    "Therfore total loss $J$,\n",
    "\n",
    "$J(w,x,b) = \\sum_{i,j:r(i,j)=1} L(f(w,x,b), y^{(i,j)})$"
   ]
  },
  {
   "cell_type": "markdown",
   "id": "3484470c",
   "metadata": {},
   "source": [
    "## Practical Tips\n",
    "\n",
    "### Mean normalization\n",
    "\n",
    "|M/U|User 1|User 2 | User 3| User 4|\n",
    "|---|------|-------|-------|-------|\n",
    "|Movie 1| 4.5 | 3.5 | 2.0 | ? |\n",
    "|Movie 2| 1.5 | 2.0 | 2.0 | ? |\n",
    "|Movie 3| 0 | 5 | 2.0 | ? |\n",
    "|Movie 4| ? | ? | ? | ? |\n",
    "\n",
    "\n",
    "For a new user, normalize the rows of the ratings matrix with mean of each row.\n",
    "\n",
    "- Row_new = Row - $\\mu$\n",
    "\n",
    "For a new movie that no user has rated yet, normalize the columns of the ratings matrix with mean of each column.\n",
    "\n",
    "- Column_new = Columns - $\\mu$\n",
    "\n"
   ]
  },
  {
   "cell_type": "markdown",
   "id": "9570d268",
   "metadata": {},
   "source": [
    "### Finding Related Items\n",
    "\n",
    "Feature vectors for item 1, 2 and 3 are are $x^{(1)}, x^{(2)}, x^{(3)} $, respectively.\n",
    "\n",
    "In order to find other $k$ item related to it, we need to find $x^{(k)}$ similar to $x^{(i)}$.\n",
    "\n",
    "Therefore we would find item with smallest distance,\n",
    "\n",
    "$\\sum_{l=1}^{n}(x_l^{(k)} - x_l^{(i)})^2 $\n",
    "\n",
    "### Limitations\n",
    "#### Cold Start Problem\n",
    "- Ranking a new item that very few users have rated\n",
    "- show somthing reasonable to new users who have rated few items?\n",
    "\n",
    "Use other information about items/user:\n",
    "- demographics (age, gender, location), expressed prferences e.g. Web Browser\n",
    "- items: genre, actors, studio, director"
   ]
  },
  {
   "cell_type": "markdown",
   "id": "7cd5663e",
   "metadata": {},
   "source": [
    "## Deep-learning approach for Content Based Filtering\n",
    "- Recommend items based on features of user and item to find a match.\n",
    "\n",
    "$x_u^{(j)}$ = User feature matrix\n",
    "\n",
    "$x_m^{(i)}$ = Item feature vector\n",
    "\n",
    "$V_u$ = User feature **vector** derived from $x_u^{(j)}$\n",
    "\n",
    "$V_m$ = Item feature **vector** derived from $x_m^{(i)}$\n",
    "\n",
    "Combine the two NNs into single,\n",
    "\n",
    "![](figures/NN_recommender.png)\n",
    "\n",
    "\n",
    "Cost function is,\n",
    "\n",
    "$J = \\sum_{(i,j):r(i,j)=1} (v_u^{(j)} \\cdot v_m^{(i)} - y^{(i,j)})^2 + \\text{NN Regularization}$"
   ]
  },
  {
   "cell_type": "markdown",
   "id": "cd86db4c",
   "metadata": {},
   "source": [
    "### Recommendation from a Large Catalog\n",
    "\n",
    "#### Retrieval\n",
    "1. Generate a large list of plausible item candidates.\n",
    "    - For each of the last 10 movies watched, find 10 most similar movies -> 100 movies list\n",
    "    - For most viewed 3 genres, find the top 10 movies in each --> 30 movies\n",
    "    - Top 20 movies in the country\n",
    "2. Combine retrieved items into a list, remove duplicates and items already watched/purchased.\n",
    "\n",
    "**Trade-offs** : Retrieving more items is better performance but slower. Carry out offline experiments with different number of retrieved items.\n",
    "\n",
    "#### Ranking\n",
    "1. Rank the list using the trained model. \n",
    "    - Use $V_u$ for the user and use each movies $v_m$\n",
    "2. Display ranked items to the user.\n",
    "\n"
   ]
  }
 ],
 "metadata": {
  "kernelspec": {
   "display_name": "Python 3 (ipykernel)",
   "language": "python",
   "name": "python3"
  },
  "language_info": {
   "codemirror_mode": {
    "name": "ipython",
    "version": 3
   },
   "file_extension": ".py",
   "mimetype": "text/x-python",
   "name": "python",
   "nbconvert_exporter": "python",
   "pygments_lexer": "ipython3",
   "version": "3.10.0"
  }
 },
 "nbformat": 4,
 "nbformat_minor": 5
}
