{
 "cells": [
  {
   "cell_type": "markdown",
   "id": "0ad2a1aa",
   "metadata": {},
   "source": [
    "# Recommender Systems\n",
    "\n",
    "\n",
    "## When feature vector for items is avaialble\n",
    "- Examples of feature vectors for movies are genres, tags, actors, length etc.\n",
    "- Examples of feature vector for food are cuisine, hotness, texture etc.\n",
    "\n",
    "$n_u$ = number of users\n",
    "\n",
    "$m$ = number of items\n",
    "\n",
    "$y(i,j) = 1$ if user $n_j$ has rated item $i$ else 0.\n",
    "\n",
    "$W^{(j)}, b^{(j)}$ = parameters for user $j$\n",
    "\n",
    "$x^{(i)}$ = feature vector for item $i$\n",
    "\n",
    "Rating for $u_j = W \\cdot X + b $\n",
    "\n",
    "$J(w^{(j)}, b^{(j)}) = \\frac{1}{2} \\sum_{i:r(i,j)=1} [w^{(j)} \\cdot x^{(j)} + b^{(j)} - y^{(i,j)}]^2 + \\frac{\\lambda}{2} \\sum_{k=1}^{n_u}(w_k^{(j)})^2$\n",
    "\n",
    "Apply gradient descent for any other optimisation algorithm to learn $w$, $b$ for each user."
   ]
  },
  {
   "cell_type": "markdown",
   "id": "a6d64f6d",
   "metadata": {},
   "source": [
    "## Collaborative Filtering\n",
    "\n",
    "Cost function = cost + regularization of $x_k$ + regularization of $w_k$\n",
    "\n",
    "$J(w,x,b) = \\frac{1}{2} \\sum_{i:r(i,j)=1} [w^{(j)} \\cdot x^{(j)} + b^{(j)} - y^{(i,j)}]^2 + \\frac{\\lambda}{2} \\sum_{i=1}^{n_u} \\sum_{k=1}^{n}(w_k^{(j)})^2 + \\frac{\\lambda}{2} \\sum_{i=1}^{n_m} \\sum_{k=1}^{n}(x_k^{(j)})^2$"
   ]
  },
  {
   "cell_type": "markdown",
   "id": "3e84ea4f",
   "metadata": {},
   "source": [
    "### Binary labels: favs, likes and clicks\n",
    "\n",
    "Logistic function, \n",
    "\n",
    "where $f(w,b,x) = g(w^{(j)} \\cdot x^{(j)} + b^{(j)})$\n",
    "\n",
    "Loss for a single example,\n",
    "\n",
    "$L(f(w,x,b), y^{(i,j)})= - y^{(i,j)} \\log_2({f(w,x,b)}) - (1-y^{(i,j)})\\log_2(1-f(w,x,b))  $\n",
    "\n",
    "Therfore total loss $J$,\n",
    "\n",
    "$J(w,x,b) = \\sum_{i,j:r(i,j)=1} L(f(w,x,b), y^{(i,j)})$"
   ]
  },
  {
   "cell_type": "markdown",
   "id": "8dda57c6",
   "metadata": {},
   "source": [
    "## Practical Tips\n",
    "\n",
    "### Mean normalization\n",
    "\n",
    "|M/U|User 1|User 2 | User 3| User 4|\n",
    "|---|------|-------|-------|-------|\n",
    "|Movie 1| 4.5 | 3.5 | 2.0 | ? |\n",
    "|Movie 2| 1.5 | 2.0 | 2.0 | ? |\n",
    "|Movie 3| 0 | 5 | 2.0 | ? |\n",
    "|Movie 4| ? | ? | ? | ? |\n",
    "\n",
    "\n",
    "For a new user, normalize the rows of the ratings matrix with mean of each row.\n",
    "\n",
    "- Row_new = Row - $\\mu$\n",
    "\n",
    "For a new movie that no user has rated yet, normalize the columns of the ratings matrix with mean of each column.\n",
    "\n",
    "- Column_new = Columns - $\\mu$\n",
    "\n"
   ]
  },
  {
   "cell_type": "code",
   "execution_count": null,
   "id": "55f9bde8",
   "metadata": {},
   "outputs": [],
   "source": []
  }
 ],
 "metadata": {
  "kernelspec": {
   "display_name": "Python 3 (ipykernel)",
   "language": "python",
   "name": "python3"
  },
  "language_info": {
   "codemirror_mode": {
    "name": "ipython",
    "version": 3
   },
   "file_extension": ".py",
   "mimetype": "text/x-python",
   "name": "python",
   "nbconvert_exporter": "python",
   "pygments_lexer": "ipython3",
   "version": "3.10.0"
  }
 },
 "nbformat": 4,
 "nbformat_minor": 5
}
