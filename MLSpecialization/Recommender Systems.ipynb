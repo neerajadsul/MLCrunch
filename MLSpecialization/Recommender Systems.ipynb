{
 "cells": [
  {
   "cell_type": "markdown",
   "id": "3ee1477c",
   "metadata": {},
   "source": [
    "# Recommender Systems\n",
    "\n",
    "\n",
    "## When feature vector for items is avaialble\n",
    "- Examples of feature vectors for movies are genres, tags, actors, length etc.\n",
    "- Examples of feature vector for food are cuisine, hotness, texture etc.\n",
    "\n",
    "$n_u$ = number of users\n",
    "\n",
    "$m$ = number of items\n",
    "\n",
    "$y(i,j) = 1$ if user $n_j$ has rated item $i$ else 0.\n",
    "\n",
    "$W^{(j)}, b^{(j)}$ = parameters for user $j$\n",
    "\n",
    "$x^{(i)}$ = feature vector for item $i$\n",
    "\n",
    "Rating for $u_j = W \\cdot X + b $\n",
    "\n",
    "$J(w^{(j)}, b^{(j)}) = \\frac{1}{2} \\sum_{i:r(i,j)=1} [w^{(j)} \\cdot x^{(j)} + b^{(j)} - y^{(i,j)}]^2 + \\frac{\\lambda}{2} \\sum_{k=1}^{n}(w_k^{(j)})^2$\n",
    "\n",
    "Apply gradient descent for any other optimisation algorithm to learn $w$, $b$ for each user."
   ]
  },
  {
   "cell_type": "markdown",
   "id": "3534c50f",
   "metadata": {},
   "source": []
  }
 ],
 "metadata": {
  "kernelspec": {
   "display_name": "Python 3 (ipykernel)",
   "language": "python",
   "name": "python3"
  },
  "language_info": {
   "codemirror_mode": {
    "name": "ipython",
    "version": 3
   },
   "file_extension": ".py",
   "mimetype": "text/x-python",
   "name": "python",
   "nbconvert_exporter": "python",
   "pygments_lexer": "ipython3",
   "version": "3.10.0"
  }
 },
 "nbformat": 4,
 "nbformat_minor": 5
}
