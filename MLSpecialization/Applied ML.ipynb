{
 "cells": [
  {
   "cell_type": "markdown",
   "id": "c17119ab",
   "metadata": {},
   "source": [
    "## Debugging a learning algorithm\n",
    "**Data**\n",
    "- get more training examples\n",
    "\n",
    "**Features**\n",
    "- try smaller set of features\n",
    "- get additional features\n",
    "- get polynomial or higher-order features\n",
    "\n",
    "**Regularization**\n",
    "- increase $\\lambda$\n",
    "- decrease $\\lambda$"
   ]
  }
 ],
 "metadata": {
  "kernelspec": {
   "display_name": "Python 3 (ipykernel)",
   "language": "python",
   "name": "python3"
  },
  "language_info": {
   "codemirror_mode": {
    "name": "ipython",
    "version": 3
   },
   "file_extension": ".py",
   "mimetype": "text/x-python",
   "name": "python",
   "nbconvert_exporter": "python",
   "pygments_lexer": "ipython3",
   "version": "3.10.0"
  }
 },
 "nbformat": 4,
 "nbformat_minor": 5
}
