{
 "cells": [
  {
   "cell_type": "markdown",
   "id": "c17119ab",
   "metadata": {},
   "source": [
    "## Debugging a learning algorithm\n",
    "**Data**\n",
    "- get more training examples\n",
    "\n",
    "**Features**\n",
    "- try smaller set of features\n",
    "- get additional features\n",
    "- get polynomial or higher-order features\n",
    "\n",
    "**Regularization**\n",
    "- increase $\\lambda$\n",
    "- decrease $\\lambda$"
   ]
  },
  {
   "cell_type": "markdown",
   "id": "3c5d54a7",
   "metadata": {},
   "source": [
    "## Evaluating a Model\n",
    "- A 1D or 2D model can be plotted to visualize the fit\n",
    "- Multidimensional data difficult to visualize\n",
    "\n",
    "## Split data into train and test and check the error\n",
    "\n",
    "70% data into training set $(X^{m_{train}}, y^{m_{train}})$\n",
    "\n",
    "30% data into test set $(X^{m_{test}}, y^{m_{test}})$\n",
    "\n",
    "#### For Regression Problems\n",
    "Compute Test Error and Train Error, without the regularization.\n",
    "$ J_{train}(W,b) $ and $ J_{test}(W,b) $\n",
    "\n",
    "#### For Classification Problems\n",
    "\n",
    "Compute Test Error and Train Error, **without the regularization.**\n",
    "\n",
    "$ J_{train}(W,b) $ = fraction of training set that has been misclassified\n",
    "\n",
    "$ J_{test}(W,b) $ = fraction of test set that has been misclassified"
   ]
  },
  {
   "cell_type": "markdown",
   "id": "65ee941d",
   "metadata": {},
   "source": [
    "## Model Selection\n",
    "Split data into train, cross validation and test set groups in the proportion 60%/20%/20%.\n",
    "\n",
    "60% data into training set $(X^{m_{train}}, y^{m_{train}})$\n",
    "\n",
    "20% data into dev-set / cross-validation set $(X^{m_{dev}}, y^{m_{dev}})$ or $(X^{m_{cv}}, y^{m_{cv}})$\n",
    "\n",
    "20% data into test set $(X^{m_{test}}, y^{m_{test}})$\n",
    "\n",
    "Calculate $ J_{train}(W,b) $, $ J_{dev}(W,b) $ and $ J_{test}(W,b) $ without the regularization.\n",
    "\n",
    "Use **Dev Error** for evaluating the models.\n",
    "\n",
    "Use **Test Error** for estimating generalization error.\n",
    "\n",
    "$[Normalize Data] \\rightarrow [Loop Model List] \\rightarrow [Train Model] \\rightarrow [Train Error]\\rightarrow [Dev/CV Error]$\n",
    "\n",
    "$[Choose Model with Low Dev Error and Train Error] \\rightarrow [Test/Generalization Error] $\n"
   ]
  },
  {
   "cell_type": "markdown",
   "id": "3ee11403",
   "metadata": {},
   "source": [
    "## Bias and Variance Diagnostics\n",
    "\n",
    "![Bias and Variance](figures/bias_variance_diagnostics.jpg)\n",
    "\n",
    "\n"
   ]
  },
  {
   "cell_type": "code",
   "execution_count": null,
   "id": "68da44ae",
   "metadata": {},
   "outputs": [],
   "source": []
  }
 ],
 "metadata": {
  "kernelspec": {
   "display_name": "Python 3 (ipykernel)",
   "language": "python",
   "name": "python3"
  },
  "language_info": {
   "codemirror_mode": {
    "name": "ipython",
    "version": 3
   },
   "file_extension": ".py",
   "mimetype": "text/x-python",
   "name": "python",
   "nbconvert_exporter": "python",
   "pygments_lexer": "ipython3",
   "version": "3.10.0"
  }
 },
 "nbformat": 4,
 "nbformat_minor": 5
}
