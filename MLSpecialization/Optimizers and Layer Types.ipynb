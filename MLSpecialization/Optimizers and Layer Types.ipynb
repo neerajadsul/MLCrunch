{
 "cells": [
  {
   "cell_type": "markdown",
   "id": "dff2ecb5",
   "metadata": {},
   "source": [
    "# ADAptive Moment optimizer (ADAM)\n",
    "\n",
    "Different learning rate for each parameter\n",
    "- if $w_j$ keeps moving in the same direction, $\\uparrow \\alpha$ \n",
    "- if $w_j$ keeps oscillating, $\\downarrow \\alpha$ \n",
    "\n",
    "`keras.optimizers.Adam(learning_rate=1e-3)`"
   ]
  },
  {
   "cell_type": "markdown",
   "id": "c38f2ba0",
   "metadata": {},
   "source": [
    "# Layer Types\n",
    "\n",
    "## Dense Layer\n",
    "\n",
    "`Dense`\n",
    "\n",
    "## Convolutional Layer\n",
    "`Conv1D`, `Conv2D`, `Conv3D`\n",
    "\n"
   ]
  },
  {
   "cell_type": "code",
   "execution_count": null,
   "id": "b5527079",
   "metadata": {},
   "outputs": [],
   "source": []
  }
 ],
 "metadata": {
  "kernelspec": {
   "display_name": "Python 3 (ipykernel)",
   "language": "python",
   "name": "python3"
  },
  "language_info": {
   "codemirror_mode": {
    "name": "ipython",
    "version": 3
   },
   "file_extension": ".py",
   "mimetype": "text/x-python",
   "name": "python",
   "nbconvert_exporter": "python",
   "pygments_lexer": "ipython3",
   "version": "3.10.0"
  }
 },
 "nbformat": 4,
 "nbformat_minor": 5
}
