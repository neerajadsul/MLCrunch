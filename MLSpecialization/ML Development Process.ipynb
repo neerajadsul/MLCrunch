{
 "cells": [
  {
   "cell_type": "markdown",
   "id": "4c8e07fe",
   "metadata": {},
   "source": [
    "## Iterative Development Process\n",
    "\n",
    "### Typical Process Flow\n",
    "\n",
    "![](figures/iterative_ml_devlopment.png)\n",
    "\n",
    "**[Choose Model, Data] -> [Set Baseline Criteria] -> [Train] -> [Diagnostics]**\n",
    "\n",
    "#### [Diagnostics]\n",
    "\n",
    "**[Analyze Performance] -> [Tune Parameters] -> [Reduce Bias, Reduce Variance, Error Analysis]**\n"
   ]
  },
  {
   "cell_type": "markdown",
   "id": "4ca39275",
   "metadata": {},
   "source": [
    "### Error Analysis\n",
    "- Manually examine up to 100 error examples and group them based on common traits\n",
    "- Prioritize addressing group that is considerable\n",
    "- If error samples are large, randomly choose up ≈ 100 to hand analyse\n"
   ]
  },
  {
   "cell_type": "markdown",
   "id": "55ecef8f",
   "metadata": {},
   "source": [
    "### Adding More Data\n",
    "- more data of everything\n",
    "- add more data of the type which error analysis indicates might help\n",
    "#### data augmentation\n",
    "- Modifying existing training example to create new training example\n",
    "- Augmentation Effects must represent real conditions. \n",
    "- Purely random effect does not help.\n",
    "- Image Data: image effects, distortions, crops, photography parameters, noise\n",
    "- Speech Data: add noisy background such as crowd, card, bad cellphone connection\n",
    "#### Data Synthesis\n",
    "- Large number of textured background merge with a reference foreground."
   ]
  },
  {
   "cell_type": "markdown",
   "id": "44274827",
   "metadata": {},
   "source": [
    "### Transfer Learning\n",
    "\n",
    "- Use the models which have been supervised pre-training on.\n",
    "\n",
    "#### Option-1: *Only Train Output* Layer Keep All other Parameters\n",
    "- If have limited new dataset\n",
    "\n",
    "\n",
    "#### Option-2: *Train All Layers* with Original Parameters As Initial Values\n",
    "- Better if new dataset is large enough\n",
    "\n",
    "##### IMPORTANT: In order for transfer learning to work, input data of the original model and new data for transfer learning should be of same type."
   ]
  },
  {
   "cell_type": "markdown",
   "id": "ac2005a3",
   "metadata": {},
   "source": [
    "### Full Cycle of Machine Learning Project\n",
    "\n",
    "![](figures/ML_project_full_cycle.png)"
   ]
  },
  {
   "cell_type": "markdown",
   "id": "fd3941ff",
   "metadata": {},
   "source": [
    "### Fairness, Bias and Ethics\n",
    "#### Bias\n",
    "- hiring tool that discriminates against women (probably Amazon)\n",
    "- African-American community more matched with criminal mugshots\n",
    "- automatic rejection of loans for economically weaker sections of society\n",
    "\n",
    "#### Ethics\n",
    "- Deepfakes\n",
    "- bots generating fake content for user engagement: political or commercial purposes\n",
    "- fraud vs anti-fraud / spam vs anti-spam\n",
    "\n",
    "#### Guidelines to avoid bias and design fair and ethical ML systems\n",
    "- Get a diverse team to brainstorm things that might go wrong focussing on possible harm to groups of society\n",
    "- Carry out literature search on standards/guidelines for the application industry\n",
    "- Audit the systems prior to deployment to production\n",
    "- Develope mitigation plans to avoid possible harm."
   ]
  },
  {
   "cell_type": "code",
   "execution_count": null,
   "id": "3905c951",
   "metadata": {},
   "outputs": [],
   "source": []
  }
 ],
 "metadata": {
  "kernelspec": {
   "display_name": "Python 3 (ipykernel)",
   "language": "python",
   "name": "python3"
  },
  "language_info": {
   "codemirror_mode": {
    "name": "ipython",
    "version": 3
   },
   "file_extension": ".py",
   "mimetype": "text/x-python",
   "name": "python",
   "nbconvert_exporter": "python",
   "pygments_lexer": "ipython3",
   "version": "3.10.0"
  }
 },
 "nbformat": 4,
 "nbformat_minor": 5
}
