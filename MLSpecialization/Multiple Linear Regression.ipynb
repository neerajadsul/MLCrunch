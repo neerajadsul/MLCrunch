{
 "cells": [
  {
   "cell_type": "markdown",
   "id": "2446a70c",
   "metadata": {},
   "source": [
    "# Regression Model\n",
    "\n",
    "### Training Set \n",
    "$m$ = number of training examples\n",
    "\n",
    "$n$ = number of features\n",
    "\n",
    "$X$ = Input Vector Variable or Feature\n",
    "\n",
    "$Y$ = Output Vector or Target Variable\n",
    "\n",
    "$\\vec{X}_j^{(i)}, \\vec{Y}_j^{(i)} \\longrightarrow i^{th}$ training sample for $j^{th}$ feature\n",
    "\n",
    "### Hypothesis Function\n",
    "\n",
    "$f_{w,b}(\\vec{X}) = w_1 X_1 + w_2 X_2 + \\cdots + w_n X_n + b $\n",
    "\n",
    "feature (X) $\\rightarrow$ hypothesis function (model) $\\rightarrow  \\hat{y}$  estimate/prediction\n",
    "\n",
    "\n",
    "Let,\n",
    "$W = \\vec{w} = [w_1 w_2 \\cdots w_n]$ be the weights / parameter vector,\n",
    "\n",
    "and\n",
    "\n",
    "$X = \\vec{X} = [X_1 X_2 \\cdots X_n]$ be the input/feature vector\n",
    "\n",
    "then \n",
    "\n",
    "$f_{\\vec{w}, b}(\\vec{X}) = \\vec{W} \\cdot \\vec{X} + b $"
   ]
  },
  {
   "cell_type": "markdown",
   "id": "a0af2ff6",
   "metadata": {},
   "source": [
    "### Cost Function\n",
    "\n",
    "$ \\hat{y}^{(i)} = f_{\\vec{W},b}(\\vec{X}^{(i)}) $\n",
    "\n",
    "$ f_{\\vec{W},b}(\\vec{X}^{(i)}) = \\vec{W} \\cdot \\vec{X}^{(i)} + b $\n",
    "\n",
    "Mean squared error (MSE) with $m$ number of training samples,\n",
    "\n",
    "\n",
    "$ J(\\vec{W}, b) = \\frac{1}{2m} \\sum_{i=1}^{m} [\\hat{y}^{(i)} - y^{(i)} ]^2 = \\frac{1}{2m} \\sum_{i=1}^{m} [f_{w,b}(x^{(i)}) - y^{(i)} ]^2$\n",
    "\n",
    "\n",
    "### Goal\n",
    "\n",
    "minimize $ J(\\vec{W}, b) $\n"
   ]
  },
  {
   "cell_type": "markdown",
   "id": "bdf4875b",
   "metadata": {},
   "source": [
    "## Notation\n",
    "Here is a summary of some of the notation you will encounter, updated for multiple features.  \n",
    "\n",
    "|General Notation  | Description | Python (if applicable) |\n",
    "|------------|--------------------|----------------------------------------|\n",
    "| $a$ | scalar, non bold                                                      ||\n",
    "| $\\mathbf{a}$ | vector, bold                                                 ||\n",
    "| $\\mathbf{A}$ | matrix, bold capital                                         ||\n",
    "| **Regression** |         |    |     |\n",
    "|  $\\mathbf{X}$ | training example matrix                  | `X_train` |   \n",
    "|  $\\mathbf{y}$  | training example  targets                | `y_train` \n",
    "|  $\\mathbf{x}^{(i)}$, $y^{(i)}$ | $i_{th}$Training Example | `X[i]`, `y[i]`|\n",
    "| m | number of training examples | `m`|\n",
    "| n | number of features in each example | `n`|\n",
    "|  $\\mathbf{w}$  |  parameter: weight,                       | `w`    |\n",
    "|  $b$           |  parameter: bias                                           | `b`    |     \n",
    "| $f_{\\mathbf{w},b}(\\mathbf{x}^{(i)})$ | The result of the model evaluation at $\\mathbf{x^{(i)}}$ parameterized by $\\mathbf{w},b$: $f_{\\mathbf{w},b}(\\mathbf{x}^{(i)}) = \\mathbf{w} \\cdot \\mathbf{x}^{(i)}+b$  | `f_wb` | \n"
   ]
  },
  {
   "cell_type": "code",
   "execution_count": null,
   "id": "5e03c2ff",
   "metadata": {},
   "outputs": [],
   "source": []
  },
  {
   "cell_type": "code",
   "execution_count": null,
   "id": "0c8e4179",
   "metadata": {},
   "outputs": [],
   "source": []
  }
 ],
 "metadata": {
  "kernelspec": {
   "display_name": "Python 3 (ipykernel)",
   "language": "python",
   "name": "python3"
  },
  "language_info": {
   "codemirror_mode": {
    "name": "ipython",
    "version": 3
   },
   "file_extension": ".py",
   "mimetype": "text/x-python",
   "name": "python",
   "nbconvert_exporter": "python",
   "pygments_lexer": "ipython3",
   "version": "3.10.0"
  }
 },
 "nbformat": 4,
 "nbformat_minor": 5
}
