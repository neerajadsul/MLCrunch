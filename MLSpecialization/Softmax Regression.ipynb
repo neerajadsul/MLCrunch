{
 "cells": [
  {
   "cell_type": "markdown",
   "id": "92a78606",
   "metadata": {},
   "source": [
    "# Softmax Regression \n",
    "**Generalized Regression** \n",
    "\n",
    "\n",
    "$Z_j = W_j \\cdot X + b_j$\n",
    "\n",
    "\n",
    "$ a_j = \\frac{\\exp^{Z_j}}{\\sum_{k=1}^{N} \\exp^{Z_k}} = P(y = j | X)$\n",
    "\n",
    "\n",
    "For example, in case of classification of digits 0 to 9, \n",
    "\n",
    "$ a_7 = \\frac{\\exp^{Z_7}}{\\sum_{k=1}^{10} \\exp^{Z_k}} = P(y = 7 | X)$\n",
    "\n",
    "\n",
    "#### Loss function\n",
    "\n",
    "$ loss(a_1, a_2, \\dots, a_N, y) = -\\log(a_j)$ if $y=j$\n",
    "\n",
    "### NN with Softmax Output\n",
    "\n",
    "$[X] \\rightarrow [ReLU a^{[1]}] \\rightarrow [ReLU a^{[2]}] \\rightarrow [\\text{Softmax } a^{[3]}] \\rightarrow [y]$\n",
    "\n",
    "### Loss function\n",
    "\n",
    "```python\n",
    "SparseCategoricalCrossentropy()\n",
    "```"
   ]
  },
  {
   "cell_type": "code",
   "execution_count": null,
   "id": "7ec07f08",
   "metadata": {},
   "outputs": [],
   "source": []
  }
 ],
 "metadata": {
  "kernelspec": {
   "display_name": "Python 3 (ipykernel)",
   "language": "python",
   "name": "python3"
  },
  "language_info": {
   "codemirror_mode": {
    "name": "ipython",
    "version": 3
   },
   "file_extension": ".py",
   "mimetype": "text/x-python",
   "name": "python",
   "nbconvert_exporter": "python",
   "pygments_lexer": "ipython3",
   "version": "3.10.0"
  }
 },
 "nbformat": 4,
 "nbformat_minor": 5
}
