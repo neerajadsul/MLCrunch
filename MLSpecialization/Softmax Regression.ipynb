{
 "cells": [
  {
   "cell_type": "markdown",
   "id": "d4ed6aa7",
   "metadata": {},
   "source": [
    "# Softmax Regression \n",
    "## Multiclass Classification\n",
    "**Generalized Regression** \n",
    "\n",
    "\n",
    "$Z_j = W_j \\cdot X + b_j$\n",
    "\n",
    "\n",
    "$ a_j = \\frac{\\exp^{Z_j}}{\\sum_{k=1}^{N} \\exp^{Z_k}} = P(y = j | X)$\n",
    "\n",
    "\n",
    "For example, in case of classification of digits 0 to 9, \n",
    "\n",
    "$ a_7 = \\frac{\\exp^{Z_7}}{\\sum_{k=1}^{10} \\exp^{Z_k}} = P(y = 7 | X)$\n",
    "\n",
    "\n",
    "#### Loss function\n",
    "\n",
    "$ loss(a_1, a_2, \\dots, a_N, y) = -\\log(a_j)$ if $y=j$\n",
    "\n",
    "### NN with Softmax Output\n",
    "\n",
    "$[X] \\rightarrow [ReLU a^{[1]}] \\rightarrow [ReLU a^{[2]}] \\rightarrow [\\text{Softmax } a^{[3]}] \\rightarrow [y]$\n",
    "\n",
    "### Loss function\n",
    "\n",
    "```python\n",
    "SparseCategoricalCrossentropy(from_logits=True)\n",
    "```\n",
    "Directly calculate logistics formula instead of calculating intermediate terms $a_j$\n",
    "\n",
    "Note: Use `activation='linear'` as the output layer.\n",
    "\n",
    "\n",
    "### SparseCategorialCrossentropy or CategoricalCrossEntropy\n",
    "Tensorflow has two potential formats for target values and the selection of the loss defines which is expected.\n",
    "- SparseCategorialCrossentropy: expects the target to be an integer corresponding to the index. For example, if there are 10 potential target values, y would be between 0 and 9. \n",
    "- CategoricalCrossEntropy: Expects the target value of an example to be one-hot encoded where the value at the target index is 1 while the other N-1 entries are zero. An example with 10 potential target values, where the target is 2 would be [0,0,1,0,0,0,0,0,0,0].\n",
    "\n",
    "### Prediction\n",
    "`tf.nn.sigmoid(logit)`"
   ]
  },
  {
   "cell_type": "markdown",
   "id": "617484e5",
   "metadata": {},
   "source": [
    "## Multilabel-classification\n",
    "\n",
    "$[X] \\rightarrow [ReLU a^{[1]}] \\rightarrow [ReLU a^{[2]}] \\rightarrow [\\text{Sigmoid } a^{[3]}] \\rightarrow [y_1, y_2, \\dots, y_K]$\n",
    "\n"
   ]
  },
  {
   "cell_type": "code",
   "execution_count": null,
   "id": "4285418e",
   "metadata": {},
   "outputs": [],
   "source": []
  }
 ],
 "metadata": {
  "kernelspec": {
   "display_name": "Python 3 (ipykernel)",
   "language": "python",
   "name": "python3"
  },
  "language_info": {
   "codemirror_mode": {
    "name": "ipython",
    "version": 3
   },
   "file_extension": ".py",
   "mimetype": "text/x-python",
   "name": "python",
   "nbconvert_exporter": "python",
   "pygments_lexer": "ipython3",
   "version": "3.10.0"
  }
 },
 "nbformat": 4,
 "nbformat_minor": 5
}
