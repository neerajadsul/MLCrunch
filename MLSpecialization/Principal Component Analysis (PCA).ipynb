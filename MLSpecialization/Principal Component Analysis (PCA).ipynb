{
 "cells": [
  {
   "cell_type": "markdown",
   "id": "545bae44",
   "metadata": {},
   "source": [
    "# PCA\n",
    "- dimensionality reduction of data\n",
    "\n",
    "1. Perform feature scaling\n",
    "2. Obtain 2 or 3 principal components. $z_1, z_2, z_3$\n",
    "3. Examine how much info (variance) is explained by each component.\n",
    "4. Transform (project) data on to new axis."
   ]
  },
  {
   "cell_type": "markdown",
   "id": "0a749cac",
   "metadata": {},
   "source": [
    "## Applications\n",
    "- visualization of data\n",
    "Not used anymore that much:\n",
    "- Data compression\n",
    "- Speedup training of supervised learning models by reducing features\n"
   ]
  },
  {
   "cell_type": "code",
   "execution_count": null,
   "id": "a7d31cab",
   "metadata": {},
   "outputs": [],
   "source": []
  }
 ],
 "metadata": {
  "kernelspec": {
   "display_name": "Python 3 (ipykernel)",
   "language": "python",
   "name": "python3"
  },
  "language_info": {
   "codemirror_mode": {
    "name": "ipython",
    "version": 3
   },
   "file_extension": ".py",
   "mimetype": "text/x-python",
   "name": "python",
   "nbconvert_exporter": "python",
   "pygments_lexer": "ipython3",
   "version": "3.10.0"
  }
 },
 "nbformat": 4,
 "nbformat_minor": 5
}
