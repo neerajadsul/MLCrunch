{
 "cells": [
  {
   "cell_type": "code",
   "execution_count": null,
   "id": "8194d783",
   "metadata": {},
   "outputs": [],
   "source": [
    "import math\n",
    "import random\n",
    "\n",
    "import numpy as np\n",
    "import matplotlib.pyplot as plt\n",
    "from pprint import pprint\n",
    "\n",
    "from engine import Node\n",
    "from nn import MLP"
   ]
  },
  {
   "cell_type": "markdown",
   "id": "acbdcf07",
   "metadata": {},
   "source": [
    "## Demo Building a scalar computational graph"
   ]
  },
  {
   "cell_type": "code",
   "execution_count": null,
   "id": "c06bb583",
   "metadata": {},
   "outputs": [],
   "source": [
    "a = Node(2.0)\n",
    "b = Node(-1.5)\n",
    "c = a*b\n",
    "c.backprop()\n",
    "print(a.grad, b.grad)"
   ]
  },
  {
   "cell_type": "markdown",
   "id": "daacb31d",
   "metadata": {},
   "source": [
    "## Demo backpropagation in a simple scalar regression graph "
   ]
  },
  {
   "cell_type": "code",
   "execution_count": null,
   "id": "07bd1642",
   "metadata": {},
   "outputs": [],
   "source": [
    "x1 = Node(2.0, label='x1')\n",
    "x2 = Node(0.0, label='x2')\n",
    "\n",
    "w1 = Node(-3.0, label='w1')\n",
    "w2 = Node(1.0, label='w2')\n",
    "\n",
    "b = Node(6.88137358, label='b')\n",
    "\n",
    "a1 = w1*x1; a1.label = 'a1'\n",
    "a2 = w2*x2; a2.label = 'a2'\n",
    "c = a1 + a2; c.label = 'c'\n",
    "n = c + b; n.label = 'n'\n",
    "o = n.tanh(); o.label = 'o'"
   ]
  },
  {
   "cell_type": "code",
   "execution_count": null,
   "id": "a99937f6",
   "metadata": {},
   "outputs": [],
   "source": [
    "o.backprop()\n",
    "for p in (w1.grad, w2.grad, b.grad):\n",
    "    print(round(p, 4))"
   ]
  },
  {
   "cell_type": "markdown",
   "id": "2fe85aa0",
   "metadata": {},
   "source": [
    "## Build a multilayer perceptron (MLP) neural network (NN)\n",
    "X: training data\n",
    "\n",
    "y: ground truth (gt)"
   ]
  },
  {
   "cell_type": "code",
   "execution_count": null,
   "id": "f5c53237",
   "metadata": {},
   "outputs": [],
   "source": [
    "X = [\n",
    "    [2.0, 3.0, -1.0],\n",
    "    [3.0, -1.0, 0.5],\n",
    "    [0.5, 1.0, 1.0],\n",
    "    [1.0, 1.0, -1.0]\n",
    "]\n",
    "\n",
    "y = [1, -1, -1, 1]\n",
    "\n",
    "n = MLP(3, [4,4], 1)\n"
   ]
  },
  {
   "cell_type": "code",
   "execution_count": null,
   "id": "7a8cc549",
   "metadata": {},
   "outputs": [],
   "source": [
    "steps = 100\n",
    "# Gradient Descent Algorithm\n",
    "for i in range(steps):\n",
    "    # Forward Pass\n",
    "    ypred = [n(x) for x in X]\n",
    "    loss = sum((yout - ygt)**2 for yout, ygt in zip(ypred, y))    \n",
    "    \n",
    "    learning_rate = -0.015 + 0.0001*(i//8)\n",
    "    \n",
    "    if i % int(steps*0.1) == 0 :\n",
    "        print(i, round(loss.data, 8), round(learning_rate, 6))\n",
    "    \n",
    "    n.zero_grad()\n",
    "    \n",
    "    # Backward pass\n",
    "    loss.backprop()\n",
    "    \n",
    "    # Update Parameters\n",
    "    for p in n.parameters():\n",
    "        p.data += learning_rate * p.grad\n",
    "\n",
    "print()\n",
    "pprint(ypred)"
   ]
  }
 ],
 "metadata": {
  "kernelspec": {
   "display_name": "Python 3 (ipykernel)",
   "language": "python",
   "name": "python3"
  },
  "language_info": {
   "codemirror_mode": {
    "name": "ipython",
    "version": 3
   },
   "file_extension": ".py",
   "mimetype": "text/x-python",
   "name": "python",
   "nbconvert_exporter": "python",
   "pygments_lexer": "ipython3",
   "version": "3.10.0"
  }
 },
 "nbformat": 4,
 "nbformat_minor": 5
}
