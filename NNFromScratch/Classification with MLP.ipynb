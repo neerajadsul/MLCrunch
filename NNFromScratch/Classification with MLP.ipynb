{
 "cells": [
  {
   "cell_type": "code",
   "execution_count": null,
   "id": "8e151a6a",
   "metadata": {},
   "outputs": [],
   "source": [
    "import csv\n",
    "import numpy as np\n",
    "from itertools import permutations\n",
    "\n",
    "from sklearn.datasets import make_moons\n",
    "import matplotlib.pyplot as plt\n",
    "from pprint import pprint\n",
    "\n",
    "from nn import MLP\n",
    "from engine import Node"
   ]
  },
  {
   "cell_type": "code",
   "execution_count": null,
   "id": "d983494d",
   "metadata": {},
   "outputs": [],
   "source": [
    "X, y = make_moons(n_samples=200, noise=0.2)\n",
    "y = 2*y - 1\n",
    "plt.scatter(X[:,0], X[:, 1], c=y, cmap='jet')\n",
    "print('X.shape', X.shape)\n",
    "print('y.sahpe', y.shape)\n",
    "print(min(y), max(y))"
   ]
  },
  {
   "cell_type": "code",
   "execution_count": null,
   "id": "e990eb68",
   "metadata": {},
   "outputs": [],
   "source": [
    "model = MLP(2, [32,32], 1)\n",
    "print(f'Num parameters: {len(model.parameters())}')"
   ]
  },
  {
   "cell_type": "code",
   "execution_count": null,
   "id": "b653b9ec",
   "metadata": {},
   "outputs": [],
   "source": [
    "def lossfunc(X, y, model, batch_size=16):\n",
    "    random_idx = np.random.permutation(X.shape[0])[:batch_size]\n",
    "    Xb, yb = X[random_idx], y[random_idx]\n",
    "    \n",
    "    ypred = [model(x) for x in Xb]\n",
    "    loss = sum((yout - ygt)**2 for yout, ygt in zip(ypred, yb))    \n",
    "    \n",
    "    # L2 Regularization\n",
    "    alpha = 1e-4\n",
    "    reg_loss = alpha * sum((p*p for p in model.parameters()))\n",
    "    \n",
    "    total_loss = loss + reg_loss\n",
    "    \n",
    "    accuracy = [(yi>0) == (yp>0) for yi, yp in zip(yb, ypred)]\n",
    "    accuracy_percent = round(100*sum(accuracy)/len(accuracy), 2)\n",
    "    \n",
    "    return total_loss, accuracy_percent\n",
    "     "
   ]
  },
  {
   "cell_type": "code",
   "execution_count": null,
   "id": "e82415f9",
   "metadata": {},
   "outputs": [],
   "source": [
    "steps = 60\n",
    "\n",
    "y = y.astype('float')\n",
    "\n",
    "# Gradient Descent Algorithm\n",
    "for i in range(steps):\n",
    "    # Forward Pass\n",
    "    loss, accuracy = lossfunc(X, y, model, batch_size=40)\n",
    "    learning_rate = -0.005 + 0.0001*(i//8)\n",
    "    \n",
    "    if i % int(steps*0.1) == 0 :\n",
    "        print(i, round(loss.data, 8), accuracy ,round(learning_rate, 6))\n",
    "    \n",
    "    model.zero_grad()\n",
    "    \n",
    "    # Backward pass\n",
    "    loss.backprop()\n",
    "    \n",
    "    # Update Parameters\n",
    "    for p in model.parameters():\n",
    "        p.data += learning_rate * p.grad\n"
   ]
  },
  {
   "cell_type": "code",
   "execution_count": null,
   "id": "783860a3",
   "metadata": {},
   "outputs": [],
   "source": [
    "h = 0.2\n",
    "xmin = X[:,0].min() - 1 \n",
    "xmax = X[:,0].max() + 1\n",
    "\n",
    "ymin = X[:,1].min() - 1 \n",
    "ymax = X[:,1].max() + 1\n",
    "\n",
    "xx, yy = np.meshgrid(np.arange(xmin, xmax, h), np.arange(ymin, ymax, h))\n",
    "Xmesh = np.c_[xx.ravel(), yy.ravel()]\n",
    "inputs = [list(map(Node, xrow)) for xrow in Xmesh]\n",
    "scores = list(map(model, inputs))\n",
    "\n",
    "Z = np.array([s.data > 0 for s in scores])\n",
    "Z = Z.reshape(xx.shape)"
   ]
  },
  {
   "cell_type": "code",
   "execution_count": null,
   "id": "09913403",
   "metadata": {},
   "outputs": [],
   "source": [
    "fig, ax = plt.subplots()\n",
    "ax.contourf(xx, yy, Z, cmap=plt.cm.Spectral, alpha=0.5)\n",
    "plt.scatter(X[:,0], X[:, 1], c=y, cmap='jet')"
   ]
  },
  {
   "cell_type": "code",
   "execution_count": null,
   "id": "d315b7d8",
   "metadata": {},
   "outputs": [],
   "source": []
  }
 ],
 "metadata": {
  "kernelspec": {
   "display_name": "Python 3 (ipykernel)",
   "language": "python",
   "name": "python3"
  },
  "language_info": {
   "codemirror_mode": {
    "name": "ipython",
    "version": 3
   },
   "file_extension": ".py",
   "mimetype": "text/x-python",
   "name": "python",
   "nbconvert_exporter": "python",
   "pygments_lexer": "ipython3",
   "version": "3.10.0"
  }
 },
 "nbformat": 4,
 "nbformat_minor": 5
}
