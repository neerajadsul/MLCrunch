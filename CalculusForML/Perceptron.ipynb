{
 "cells": [
  {
   "cell_type": "markdown",
   "id": "f5645cb7",
   "metadata": {},
   "source": [
    "## Regression with a Perceptron Model\n",
    "\n",
    "**Features** are $x_1, x_2$ and **weights** are $w_1, w_2$, **bias** $b$\n",
    "Therefore the **predictions** are modelled as:\n",
    "\n",
    "__Prediction Function__\n",
    "$\\hat{y} = w_1 x_1 + w_2 x_2 + b$\n",
    "\n",
    "Using existing observations (train-data) calculate $y$ therefore loss-function based on the mean squared error (MSE) is,\n",
    "\n",
    "__Loss Function__\n",
    "$L(y, \\hat{y}) = \\frac{1}{2} (y-\\hat{y})^2$\n",
    "\n",
    "**Optimization goal**: find $w$ and $b$ to have least-error for predictions."
   ]
  },
  {
   "cell_type": "markdown",
   "id": "efdc759f",
   "metadata": {},
   "source": [
    "In order to use GD algorithm, we need following\n",
    "\n",
    "$ w_1 \\longrightarrow w_1 - \\alpha \\frac{\\delta{L}}{\\delta{w_1}}$\n",
    "\n",
    "$ w_2 \\longrightarrow w_2 - \\alpha \\frac{\\delta{L}}{\\delta{w_2}}$\n",
    "\n",
    "$ b \\longrightarrow b - \\alpha \\frac{\\delta{L}}{\\delta{b}} $\n"
   ]
  },
  {
   "cell_type": "markdown",
   "id": "8a50ca6c",
   "metadata": {},
   "source": [
    "Taking partial derivatives,\n",
    "\n",
    "$\\frac{\\delta{L}}{\\delta{w_1}} = \\frac{\\delta{L}}{\\delta{\\hat{y}}} \\frac{\\delta{\\hat{y}}}{\\delta{w_1}}$\n",
    "\n",
    "$\\frac{\\delta{L}}{\\delta{w_2}} = \\frac{\\delta{L}}{\\delta{\\hat{y}}} \\frac{\\delta{\\hat{y}}}{\\delta{w_2}}$\n",
    "\n",
    "$\\frac{\\delta{L}}{\\delta{b}} = \\frac{\\delta{L}}{\\delta{\\hat{y}}} \\frac{\\delta{\\hat{y}}}{\\delta{b}}$"
   ]
  },
  {
   "cell_type": "markdown",
   "id": "43f0a903",
   "metadata": {},
   "source": [
    "Calculating individual partial derivatives, we get,\n",
    "\n",
    "$\\frac{\\delta{L}}{\\delta{\\hat{y}}} = -(y-\\hat{y}) $\n",
    "\n",
    "$ \\frac{\\delta{L}}{\\delta{\\hat{y}}} \\frac{\\delta{\\hat{y}}}{\\delta{w_1}} = -x_1 (y-\\hat{y})$\n",
    "\n",
    "$ \\frac{\\delta{L}}{\\delta{\\hat{y}}} \\frac{\\delta{\\hat{y}}}{\\delta{w_2}} = -x_2 (y-\\hat{y})$\n",
    "\n",
    "$ \\frac{\\delta{L}}{\\delta{\\hat{y}}} \\frac{\\delta{\\hat{y}}}{\\delta{b}} = -(y-\\hat{y})$\n"
   ]
  },
  {
   "cell_type": "markdown",
   "id": "1b562289",
   "metadata": {},
   "source": [
    "Finally, updated values will be,\n",
    "\n",
    "$ w_1 \\longrightarrow w_1 - \\alpha (-x_1 (y-\\hat{y}))$\n",
    "\n",
    "$ w_2 \\longrightarrow w_2 - \\alpha (-x_2 (y-\\hat{y}))$\n",
    "\n",
    "$ b \\longrightarrow b - \\alpha(-(y-\\hat{y}))$"
   ]
  },
  {
   "cell_type": "code",
   "execution_count": null,
   "id": "77a5c713",
   "metadata": {},
   "outputs": [],
   "source": []
  }
 ],
 "metadata": {
  "kernelspec": {
   "display_name": "Python 3 (ipykernel)",
   "language": "python",
   "name": "python3"
  },
  "language_info": {
   "codemirror_mode": {
    "name": "ipython",
    "version": 3
   },
   "file_extension": ".py",
   "mimetype": "text/x-python",
   "name": "python",
   "nbconvert_exporter": "python",
   "pygments_lexer": "ipython3",
   "version": "3.9.2"
  }
 },
 "nbformat": 4,
 "nbformat_minor": 5
}
