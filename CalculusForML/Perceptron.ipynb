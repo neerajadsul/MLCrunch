{
 "cells": [
  {
   "cell_type": "markdown",
   "id": "8f2f82c1",
   "metadata": {},
   "source": [
    "## Regression with a Perceptron Model\n",
    "\n",
    "**Features** are $x_1, x_2$ and **weights** are $w_1, w_2$, **bias** $b$\n",
    "Therefore the **predictions** are modelled as:\n",
    "\n",
    "__Prediction Function__\n",
    "$\\hat{y} = w_1 x_1 + w_2 x_2 + b$\n",
    "\n",
    "Using existing observations (train-data) calculate $y$ therefore loss-function based on the mean squared error (MSE) is,\n",
    "\n",
    "__Loss Function__\n",
    "$L(y, \\hat{y}) = \\frac{1}{2} (y-\\hat{y})^2$\n",
    "\n",
    "**Optimization goal**: find $w$ and $b$ to have least-error for predictions."
   ]
  },
  {
   "cell_type": "markdown",
   "id": "8fb79ad0",
   "metadata": {},
   "source": [
    "In order to use GD algorithm, we need following\n",
    "\n",
    "$ w_1 \\longrightarrow w_1 - \\alpha \\frac{\\delta{L}}{\\delta{w_1}}$\n",
    "\n",
    "$ w_2 \\longrightarrow w_2 - \\alpha \\frac{\\delta{L}}{\\delta{w_2}}$\n",
    "\n",
    "$ b \\longrightarrow b - \\alpha \\frac{\\delta{L}}{\\delta{b}} $\n"
   ]
  },
  {
   "cell_type": "markdown",
   "id": "e3c79592",
   "metadata": {},
   "source": [
    "Taking partial derivatives,\n",
    "\n",
    "$\\frac{\\delta{L}}{\\delta{w_1}} = \\frac{\\delta{L}}{\\delta{\\hat{y}}} \\frac{\\delta{\\hat{y}}}{\\delta{w_1}}$\n",
    "\n",
    "$\\frac{\\delta{L}}{\\delta{w_2}} = \\frac{\\delta{L}}{\\delta{\\hat{y}}} \\frac{\\delta{\\hat{y}}}{\\delta{w_2}}$\n",
    "\n",
    "$\\frac{\\delta{L}}{\\delta{b}} = \\frac{\\delta{L}}{\\delta{\\hat{y}}} \\frac{\\delta{\\hat{y}}}{\\delta{b}}$"
   ]
  },
  {
   "cell_type": "markdown",
   "id": "16922e4c",
   "metadata": {},
   "source": [
    "Calculating individual partial derivatives, we get,\n",
    "\n",
    "$\\frac{\\delta{L}}{\\delta{\\hat{y}}} = -(y-\\hat{y}) $\n",
    "\n",
    "$ \\frac{\\delta{L}}{\\delta{\\hat{y}}} \\frac{\\delta{\\hat{y}}}{\\delta{w_1}} = -x_1 (y-\\hat{y})$\n",
    "\n",
    "$ \\frac{\\delta{L}}{\\delta{\\hat{y}}} \\frac{\\delta{\\hat{y}}}{\\delta{w_2}} = -x_2 (y-\\hat{y})$\n",
    "\n",
    "$ \\frac{\\delta{L}}{\\delta{\\hat{y}}} \\frac{\\delta{\\hat{y}}}{\\delta{b}} = -(y-\\hat{y})$\n"
   ]
  },
  {
   "cell_type": "markdown",
   "id": "01731c52",
   "metadata": {},
   "source": [
    "Finally, updated values will be,\n",
    "\n",
    "$ w_1 \\longrightarrow w_1 - \\alpha (-x_1 (y-\\hat{y}))$\n",
    "\n",
    "$ w_2 \\longrightarrow w_2 - \\alpha (-x_2 (y-\\hat{y}))$\n",
    "\n",
    "$ b \\longrightarrow b - \\alpha(-(y-\\hat{y}))$"
   ]
  },
  {
   "cell_type": "markdown",
   "id": "7b6089cb",
   "metadata": {},
   "source": [
    "## Classification with a Perceptron\n",
    "\n",
    "Activation: Sigmoid Function: \n",
    "\n",
    "__Prediction Function__\n",
    "$\\hat{y} = \\sigma(w_1 x_1 + w_2 x_2 + b)$\n",
    "\n",
    "$\\sigma(z) = \\frac{1}{1+e^{-z}} $\n",
    "\n",
    "$\\sigma'(z) = \\sigma(z) [1 - \\sigma(z)] $\n",
    "\n",
    "__Loss Function__\n",
    "$L(y, \\hat{y}) = -y\\ln({\\hat{y}}) -(1-y)ln(1-\\hat{y}) $\n"
   ]
  },
  {
   "cell_type": "markdown",
   "id": "0d246b2a",
   "metadata": {},
   "source": [
    "Calculating individual partial derivatives, we get,\n",
    "\n",
    "$\\frac{\\delta{L}}{\\delta{\\hat{y}}} = -y(1/\\hat{y}) - (1-y) (1/(1-\\hat{y}) =\\frac{-(y - \\hat{y})}{\\hat{y}(1 - \\hat{y})}$\n",
    "\n",
    "$ \\frac{\\delta{\\hat{y}}}{\\delta{w_1}} = x_1 \\hat{y}(1-\\hat{y})$\n",
    "\n",
    "$ \\frac{\\delta{\\hat{y}}}{\\delta{w_2}} = x_2 \\hat{y}(1-\\hat{y})$\n",
    "\n",
    "$ \\frac{\\delta{\\hat{y}}}{\\delta{b}} = \\hat{y}(1-\\hat{y})$"
   ]
  },
  {
   "cell_type": "markdown",
   "id": "49cd65ce",
   "metadata": {},
   "source": [
    "Full derivative, \n",
    "\n",
    "$ \\frac{\\delta{L}}{\\delta{\\hat{y}}} \\frac{\\delta{\\hat{y}}}{\\delta{w_1}} = -x_1 (y - \\hat{y}) $\n",
    "\n",
    "$ \\frac{\\delta{L}}{\\delta{\\hat{y}}} \\frac{\\delta{\\hat{y}}}{\\delta{w_2}} = -x_2 (y - \\hat{y})$\n",
    "\n",
    "$ \\frac{\\delta{L}}{\\delta{\\hat{y}}} \\frac{\\delta{\\hat{y}}}{\\delta{b}} = -(y - \\hat{y})$"
   ]
  },
  {
   "cell_type": "markdown",
   "id": "687d62e4",
   "metadata": {},
   "source": [
    "Finally, updated values will be, (same as linear regression perceptron model)\n",
    "\n",
    "$ w_1 \\longrightarrow w_1 - \\alpha (-x_1 (y-\\hat{y}))$\n",
    "\n",
    "$ w_2 \\longrightarrow w_2 - \\alpha (-x_2 (y-\\hat{y}))$\n",
    "\n",
    "$ b \\longrightarrow b - \\alpha(-(y-\\hat{y}))$"
   ]
  },
  {
   "cell_type": "code",
   "execution_count": null,
   "id": "b06775c3",
   "metadata": {},
   "outputs": [],
   "source": []
  }
 ],
 "metadata": {
  "kernelspec": {
   "display_name": "Python 3 (ipykernel)",
   "language": "python",
   "name": "python3"
  },
  "language_info": {
   "codemirror_mode": {
    "name": "ipython",
    "version": 3
   },
   "file_extension": ".py",
   "mimetype": "text/x-python",
   "name": "python",
   "nbconvert_exporter": "python",
   "pygments_lexer": "ipython3",
   "version": "3.9.2"
  }
 },
 "nbformat": 4,
 "nbformat_minor": 5
}
