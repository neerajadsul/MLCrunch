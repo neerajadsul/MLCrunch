{
 "cells": [
  {
   "cell_type": "markdown",
   "id": "701ff40d",
   "metadata": {},
   "source": [
    "# Optimization\n",
    "\n",
    "### Squared error or loss\n",
    "* Cost function: $ (x - a_1)^2 + (x-a_2)^2 + \\cdots + (x-a_n)^2 $\n",
    "* Minimized value: $ x = \\frac{a_1 + a_2 + \\cdots + a_n}{n}$\n",
    "\n",
    "**Example**: placing a factory next to n powerlines to minimize the cost.\n",
    "\n",
    "### Log-loss\n",
    "* Firstly, complex cost-functions are products of high exponent order factors. Such as: $p^6 (1-p)^2(3-p)^7(1-p)^{13}$\n",
    "* Furthermore, derivative of such cost is difficult.\n",
    "* Finally, since $p$ is very small, cost function will be very tiny values. Numerically hard to deal with.\n",
    "\n",
    "Therefore logarithm of cost function is used.\n",
    "* Products becomes sums.\n",
    "* Derivatives of sum of logrithms is simpler.\n",
    "* Sum of small numbers numerically easier.\n",
    "\n",
    "Cost function: -log(f(x))"
   ]
  },
  {
   "cell_type": "markdown",
   "id": "2e136f54",
   "metadata": {},
   "source": []
  }
 ],
 "metadata": {
  "kernelspec": {
   "display_name": "Python 3 (ipykernel)",
   "language": "python",
   "name": "python3"
  },
  "language_info": {
   "codemirror_mode": {
    "name": "ipython",
    "version": 3
   },
   "file_extension": ".py",
   "mimetype": "text/x-python",
   "name": "python",
   "nbconvert_exporter": "python",
   "pygments_lexer": "ipython3",
   "version": "3.9.2"
  }
 },
 "nbformat": 4,
 "nbformat_minor": 5
}
