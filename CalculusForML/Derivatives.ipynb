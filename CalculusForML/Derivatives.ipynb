{
 "cells": [
  {
   "cell_type": "markdown",
   "id": "f71b03ae",
   "metadata": {},
   "source": [
    "# Derivatives\n",
    "* continuous rate of change of a variable\n",
    "* for a continuous function $y = f(x)$, slope at a given point is the derivative,\n",
    "* $ slope = y' = f'(x) = \\frac{dy}{dx} = \\frac{df(x)}{dx} $\n",
    "* Slope of the tangent line at the point.\n",
    "* $Slope = 0$ , tangent is horizontal.\n"
   ]
  },
  {
   "cell_type": "markdown",
   "id": "ba8b6630",
   "metadata": {},
   "source": [
    "## Derivative of common functions\n",
    "1. Derivative of constant function is 0 since $\\Delta{y} = 0$\n",
    "2. Derivative of a linear function $y = mx + c $ is $m$\n",
    "3. Derivative of a qudratic function which is a parabolic function, $y = ax2$ is $y' = 2ax$\n",
    "4. Derivative of a cubic function $y=x^3$ is $ y' = 3 x ^2$\n",
    "5. Derivative of hyperbola $ y = 1/x $ is $ y ' = -1/x^2 $\n",
    "\n",
    "Generalized formula for derivative of power functions is:\n",
    "\n",
    "If $y = x^n$ then $y' = n x^{n-1} $"
   ]
  },
  {
   "cell_type": "markdown",
   "id": "5bc5d106",
   "metadata": {},
   "source": [
    "### Derivative of inverse of a function\n",
    "If $g(x) = f^{-1}(x)$ then $g'(x) = \\frac{1}{f'(x)}$"
   ]
  },
  {
   "cell_type": "markdown",
   "id": "c59bf8d1",
   "metadata": {},
   "source": [
    "### Derivative of trignometric functions\n",
    "1. $\\frac{d{sin(x)}}{dx} = cos(x)$\n",
    "2. $\\frac{d{cos(x)}}{dx} = -sin(x)$"
   ]
  },
  {
   "cell_type": "markdown",
   "id": "e0696b19",
   "metadata": {},
   "source": [
    "\n",
    "### Derivative of Exponential Function $e^x$"
   ]
  },
  {
   "cell_type": "markdown",
   "id": "9eae48dc",
   "metadata": {},
   "source": [
    "* If $ y = e^x $ then derivative $y' = e^x$\n",
    "\n",
    "* Inverse of $e^x$ is $log(x)$. \n",
    "Therfore using inversion function property, if $ y_1 = log_e(x) $ then derivative $y' = 1/x$"
   ]
  },
  {
   "cell_type": "markdown",
   "id": "fadb8cd9",
   "metadata": {},
   "source": [
    "### Non-differential functions\n",
    "* derivative does not exist at a point where slope does not exist.\n",
    "* Discountinous function at discountinuity\n",
    "* Corner points\n",
    "* Vertical tangents"
   ]
  },
  {
   "cell_type": "markdown",
   "id": "8103124b",
   "metadata": {},
   "source": [
    "### Derivatives algebra\n",
    "1. Multiplication by scalar:  If $ y = f(c x)$ then $y' = cf'(x)$\n",
    "2. Sum of functions: Derivative of $ y = (f + g)(x)$ is $y' = f'(x) + g'(x)$\n",
    "3. Product rule: If $ y = f(x)g(x)$ then $y' = f(x) g'(x) + g(x)f'(x) = f g' + g f'$\n",
    "4. Chain rule: If $ y = f(g(x)) = $ then $y' = df/dg  dg/dx$"
   ]
  },
  {
   "cell_type": "code",
   "execution_count": null,
   "id": "9d39fd61",
   "metadata": {},
   "outputs": [],
   "source": []
  }
 ],
 "metadata": {
  "kernelspec": {
   "display_name": "Python 3 (ipykernel)",
   "language": "python",
   "name": "python3"
  },
  "language_info": {
   "codemirror_mode": {
    "name": "ipython",
    "version": 3
   },
   "file_extension": ".py",
   "mimetype": "text/x-python",
   "name": "python",
   "nbconvert_exporter": "python",
   "pygments_lexer": "ipython3",
   "version": "3.9.2"
  }
 },
 "nbformat": 4,
 "nbformat_minor": 5
}
