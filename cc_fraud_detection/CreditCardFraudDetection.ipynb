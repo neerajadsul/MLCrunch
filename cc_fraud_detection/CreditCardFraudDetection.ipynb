{
 "cells": [
  {
   "cell_type": "markdown",
   "id": "60be92f6-2d43-457d-8aa6-baf4d28ec7d1",
   "metadata": {},
   "source": [
    "# Imbalanced classification: credit card fraud detection"
   ]
  },
  {
   "cell_type": "code",
   "execution_count": null,
   "id": "d6322392-0856-4594-a705-391f3cca559e",
   "metadata": {},
   "outputs": [],
   "source": [
    "import pandas as pd\n",
    "from sklearn.model_selection import train_test_split\n",
    "import numpy as np\n",
    "import matplotlib\n",
    "\n",
    "\n",
    "file = r'/Users/neeraj/Datasets/Kaggle/creditcard.csv'"
   ]
  },
  {
   "cell_type": "markdown",
   "id": "b5c0a39b-6199-463d-9706-6b1dd7c21884",
   "metadata": {},
   "source": [
    "## Read data and split into training and testing/validation sets\n",
    "Also separate inputs(X) and outputs (Y)"
   ]
  },
  {
   "cell_type": "code",
   "execution_count": null,
   "id": "5c684db0-f86a-4ec5-a603-0fd35f5a3eb8",
   "metadata": {},
   "outputs": [],
   "source": [
    "df = pd.read_csv(file)\n",
    "df.describe()"
   ]
  },
  {
   "cell_type": "code",
   "execution_count": null,
   "id": "f404d31b-8e8e-4ebf-961e-31297bf2cca7",
   "metadata": {},
   "outputs": [],
   "source": [
    "train_df, test_df = train_test_split(df, test_size=0.25)"
   ]
  },
  {
   "cell_type": "code",
   "execution_count": null,
   "id": "fa41a858-1c6c-46d6-85f0-9a351d77aecc",
   "metadata": {},
   "outputs": [],
   "source": [
    "train_Y, test_Y = train_df['Class'], test_df['Class']\n",
    "train_X, test_X = train_df[train_df.columns[:-1]], test_df[test_df.columns[:-1]]"
   ]
  },
  {
   "cell_type": "markdown",
   "id": "72931c5c-88f4-477e-851a-25f8e96856cf",
   "metadata": {},
   "source": [
    "## Get the weights for each class"
   ]
  },
  {
   "cell_type": "code",
   "execution_count": null,
   "id": "ff53347f-5762-4877-8486-7948e459ed0f",
   "metadata": {},
   "outputs": [],
   "source": [
    "not_fraud, fraud = np.bincount(train_Y)\n",
    "print(not_fraud, fraud)\n",
    "weights = 1.0/not_fraud, 1.0/fraud\n",
    "# train_X.hist(figsize=(25,25))"
   ]
  },
  {
   "cell_type": "markdown",
   "id": "29d0a61e-2e11-4328-bd9d-2a9a3c102466",
   "metadata": {},
   "source": [
    "## Data normalisation"
   ]
  },
  {
   "cell_type": "code",
   "execution_count": null,
   "id": "81bf51db-64e4-4579-b7f0-0f2f6f300005",
   "metadata": {},
   "outputs": [],
   "source": [
    "# train_X = (train_X - train_X.mean()) / train_X.std()\n",
    "# test_X = (test_X - test_X.mean()) / test_X.std()\n",
    "# print(train_X.shape)\n",
    "# train_X.describe()\n",
    "train_X, train_Y = train_X.to_numpy('float32'), train_Y.to_numpy('float32')\n",
    "test_X, test_Y = test_X.to_numpy('float32'), test_Y.to_numpy('float32')"
   ]
  },
  {
   "cell_type": "code",
   "execution_count": null,
   "id": "2d6bf83f-a612-4ef5-b59a-e382db96103d",
   "metadata": {},
   "outputs": [],
   "source": [
    "m = np.mean(train_X, axis=0)\n",
    "train_X -= m\n",
    "test_X -= m\n",
    "s = np.std(train_X, axis=0)\n",
    "train_X /= s\n",
    "test_X /= s"
   ]
  },
  {
   "cell_type": "markdown",
   "id": "ed1f6db5-a9e6-4301-a31d-6f05f7a309de",
   "metadata": {},
   "source": [
    "## Building a binary classifier with a shallow neural network"
   ]
  },
  {
   "cell_type": "code",
   "execution_count": null,
   "id": "c62fda9e-3208-4736-9c17-3841748f6a5f",
   "metadata": {},
   "outputs": [],
   "source": [
    "from tensorflow import keras"
   ]
  },
  {
   "cell_type": "code",
   "execution_count": null,
   "id": "bde7958e-0d03-4918-89dd-c0ed39119b08",
   "metadata": {},
   "outputs": [],
   "source": [
    "model = keras.Sequential(\n",
    "    [\n",
    "        keras.layers.Dense(256, activation='relu', input_shape=(train_X.shape[-1],)),\n",
    "        keras.layers.Dense(256, activation='relu'),\n",
    "        keras.layers.Dropout(0.3),\n",
    "        keras.layers.Dense(256, activation='relu'),\n",
    "        keras.layers.Dropout(0.3),\n",
    "        keras.layers.Dense(1, activation='sigmoid'),                                   \n",
    "    ]\n",
    ")\n",
    "model.summary()"
   ]
  },
  {
   "cell_type": "code",
   "execution_count": null,
   "id": "cff4e191-0e30-4efb-9409-42ad8ae35827",
   "metadata": {},
   "outputs": [],
   "source": [
    "metrics = [\n",
    "    keras.metrics.FalseNegatives(name='FN'),\n",
    "    keras.metrics.FalsePositives(name='FP'),\n",
    "    keras.metrics.TrueNegatives(name='TN'),\n",
    "    keras.metrics.TruePositives(name='TP'),\n",
    "    # keras.metrics.Precision(name='Precision'),\n",
    "    # keras.metrics.Recall(name='Recall'),\n",
    "    keras.metrics.F1Score(name='F1Score'),                                \n",
    "]"
   ]
  },
  {
   "cell_type": "code",
   "execution_count": null,
   "id": "15116698-8cd6-45e4-aa6c-f240cbdf5795",
   "metadata": {},
   "outputs": [],
   "source": [
    "model.compile(\n",
    "    optimizer=keras.optimizers.Adam(learning_rate=0.01),\n",
    "    loss='binary_crossentropy',\n",
    "    metrics=metrics,\n",
    ")"
   ]
  },
  {
   "cell_type": "code",
   "execution_count": null,
   "id": "ad6a5353-5ce1-4636-b254-cd8173b18c53",
   "metadata": {},
   "outputs": [],
   "source": [
    "# callbacks = [keras.callbacks.ModelCheckpoint('Fraud detection model at epoch{epoch}.h5')]\n",
    "class_weights = {0: weights[0], 1:weights[1]}\n",
    "print(class_weights)"
   ]
  },
  {
   "cell_type": "code",
   "execution_count": null,
   "id": "7f4e5dcc-7d86-42eb-807a-85bf7ac48bab",
   "metadata": {},
   "outputs": [],
   "source": [
    "model.fit(\n",
    "    train_X,\n",
    "    train_Y,\n",
    "    batch_size=1024,\n",
    "    epochs=20,\n",
    "    verbose=2,\n",
    "    callbacks=None,\n",
    "    validation_data=(test_X, test_Y),\n",
    "    class_weight=class_weights,\n",
    ")"
   ]
  },
  {
   "cell_type": "code",
   "execution_count": null,
   "id": "c70cddba-852e-4be4-881d-07248ba1cc36",
   "metadata": {},
   "outputs": [],
   "source": [
    "np.mean(train_X.to_numpy()[:,0])"
   ]
  },
  {
   "cell_type": "code",
   "execution_count": null,
   "id": "347d627b-1ca5-4c72-9cb0-e73e4aa1adfe",
   "metadata": {},
   "outputs": [],
   "source": [
    "train_X.hist()"
   ]
  },
  {
   "cell_type": "code",
   "execution_count": null,
   "id": "c98553ca-aadd-4344-97cb-1058923add47",
   "metadata": {},
   "outputs": [],
   "source": []
  }
 ],
 "metadata": {
  "kernelspec": {
   "display_name": "Python 3 (ipykernel)",
   "language": "python",
   "name": "python3"
  },
  "language_info": {
   "codemirror_mode": {
    "name": "ipython",
    "version": 3
   },
   "file_extension": ".py",
   "mimetype": "text/x-python",
   "name": "python",
   "nbconvert_exporter": "python",
   "pygments_lexer": "ipython3",
   "version": "3.8.18"
  }
 },
 "nbformat": 4,
 "nbformat_minor": 5
}
