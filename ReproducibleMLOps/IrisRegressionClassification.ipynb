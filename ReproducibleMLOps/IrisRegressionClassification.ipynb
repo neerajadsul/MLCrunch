{
 "cells": [
  {
   "cell_type": "code",
   "execution_count": null,
   "id": "25003f3e",
   "metadata": {},
   "outputs": [],
   "source": [
    "from sklearn.datasets import load_iris\n",
    "from sklearn.cluster import k_means, KMeans\n",
    "from sklearn.linear_model import LinearRegression, RidgeClassifier\n",
    "import matplotlib.pyplot as plt\n",
    "import pandas as pd\n",
    "import warnings\n",
    "import numpy as np\n",
    "\n",
    "# Ignore warnings of type FutureWarning\n",
    "warnings.filterwarnings('ignore', category=FutureWarning)"
   ]
  },
  {
   "cell_type": "code",
   "execution_count": null,
   "id": "b544466a",
   "metadata": {},
   "outputs": [],
   "source": [
    "data = load_iris()\n",
    "print(data['target'])\n",
    "df = pd.DataFrame(data['data'], columns=data['feature_names'])\n",
    "df.head()"
   ]
  },
  {
   "cell_type": "code",
   "execution_count": null,
   "id": "82cef17c",
   "metadata": {},
   "outputs": [],
   "source": [
    "reg = LinearRegression().fit(df, data['target'])"
   ]
  },
  {
   "cell_type": "code",
   "execution_count": null,
   "id": "2286be52",
   "metadata": {},
   "outputs": [],
   "source": [
    "print(reg.coef_)\n",
    "reg.score(df, data['target'])"
   ]
  },
  {
   "cell_type": "code",
   "execution_count": null,
   "id": "fe0a25f4",
   "metadata": {},
   "outputs": [],
   "source": [
    "reg_classes = abs(np.rint(reg.predict(df)))\n",
    "accuracy = sum(reg_classes == data['target'])/len(reg_classes)\n",
    "print(f'Accuracy: {accuracy:.3f}')"
   ]
  },
  {
   "cell_type": "code",
   "execution_count": null,
   "id": "1bf9a8f5",
   "metadata": {},
   "outputs": [],
   "source": [
    "ridge = RidgeClassifier(alpha=3).fit(df, data['target'])"
   ]
  },
  {
   "cell_type": "code",
   "execution_count": null,
   "id": "2553ec84",
   "metadata": {},
   "outputs": [],
   "source": [
    "print(ridge.coef_)\n",
    "ridge.score(df, data['target'])"
   ]
  },
  {
   "cell_type": "code",
   "execution_count": null,
   "id": "5baf5194",
   "metadata": {},
   "outputs": [],
   "source": [
    "ridge.predict(df)"
   ]
  },
  {
   "cell_type": "code",
   "execution_count": null,
   "id": "4398e1ba",
   "metadata": {},
   "outputs": [],
   "source": []
  }
 ],
 "metadata": {
  "kernelspec": {
   "display_name": "Python 3 (ipykernel)",
   "language": "python",
   "name": "python3"
  },
  "language_info": {
   "codemirror_mode": {
    "name": "ipython",
    "version": 3
   },
   "file_extension": ".py",
   "mimetype": "text/x-python",
   "name": "python",
   "nbconvert_exporter": "python",
   "pygments_lexer": "ipython3",
   "version": "3.10.13"
  }
 },
 "nbformat": 4,
 "nbformat_minor": 5
}
