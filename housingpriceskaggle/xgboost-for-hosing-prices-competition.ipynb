{
 "cells": [
  {
   "cell_type": "code",
   "execution_count": 1,
   "id": "13585090",
   "metadata": {
    "_cell_guid": "b1076dfc-b9ad-4769-8c92-a6c4dae69d19",
    "_uuid": "8f2839f25d086af736a60e9eeb907d3b93b6e0e5",
    "execution": {
     "iopub.execute_input": "2023-03-09T14:35:44.575428Z",
     "iopub.status.busy": "2023-03-09T14:35:44.575029Z",
     "iopub.status.idle": "2023-03-09T14:35:44.588182Z",
     "shell.execute_reply": "2023-03-09T14:35:44.587256Z"
    },
    "papermill": {
     "duration": 0.021687,
     "end_time": "2023-03-09T14:35:44.590598",
     "exception": false,
     "start_time": "2023-03-09T14:35:44.568911",
     "status": "completed"
    },
    "tags": []
   },
   "outputs": [],
   "source": [
    "import numpy as np # linear algebra\n",
    "import pandas as pd # data processing, CSV file I/O (e.g. pd.read_csv)"
   ]
  },
  {
   "cell_type": "code",
   "execution_count": 2,
   "id": "3d9e5511",
   "metadata": {
    "execution": {
     "iopub.execute_input": "2023-03-09T14:35:44.598598Z",
     "iopub.status.busy": "2023-03-09T14:35:44.598224Z",
     "iopub.status.idle": "2023-03-09T14:35:44.679960Z",
     "shell.execute_reply": "2023-03-09T14:35:44.678705Z"
    },
    "papermill": {
     "duration": 0.08877,
     "end_time": "2023-03-09T14:35:44.682656",
     "exception": false,
     "start_time": "2023-03-09T14:35:44.593886",
     "status": "completed"
    },
    "tags": []
   },
   "outputs": [],
   "source": [
    "# Read the data\n",
    "X_full = pd.read_csv('train.csv', index_col='Id')\n",
    "X_test_full = pd.read_csv('test.csv', index_col='Id')"
   ]
  },
  {
   "cell_type": "code",
   "execution_count": 3,
   "id": "3267ecb2",
   "metadata": {
    "execution": {
     "iopub.execute_input": "2023-03-09T14:35:44.691591Z",
     "iopub.status.busy": "2023-03-09T14:35:44.690412Z",
     "iopub.status.idle": "2023-03-09T14:35:45.838834Z",
     "shell.execute_reply": "2023-03-09T14:35:45.837355Z"
    },
    "papermill": {
     "duration": 1.155928,
     "end_time": "2023-03-09T14:35:45.841862",
     "exception": false,
     "start_time": "2023-03-09T14:35:44.685934",
     "status": "completed"
    },
    "tags": []
   },
   "outputs": [],
   "source": [
    "from sklearn.model_selection import train_test_split\n",
    "\n",
    "# Remove rows with missing target, separate target from predictors\n",
    "X_full.dropna(axis=0, subset=['SalePrice'], inplace=True)\n",
    "y = X_full.SalePrice\n",
    "X_full.drop(['SalePrice'], axis=1, inplace=True)\n",
    "\n",
    "# Break off validation set from training data\n",
    "X_train_full, X_valid_full, y_train, y_valid = train_test_split(X_full, y, \n",
    "                                                                train_size=0.8, test_size=0.2,\n",
    "                                                                random_state=0)\n",
    "\n",
    "# \"Cardinality\" means the number of unique values in a column\n",
    "# Select categorical columns with relatively low cardinality (convenient but arbitrary)\n",
    "categorical_cols = [cname for cname in X_train_full.columns if\n",
    "                    X_train_full[cname].nunique() < 10 and \n",
    "                    X_train_full[cname].dtype == \"object\"]\n",
    "\n",
    "# Select numerical columns\n",
    "numerical_cols = [cname for cname in X_train_full.columns if \n",
    "                X_train_full[cname].dtype in ['int64', 'float64']]\n",
    "\n",
    "# Keep selected columns only\n",
    "my_cols = categorical_cols + numerical_cols\n",
    "X_train = X_train_full[my_cols].copy()\n",
    "X_valid = X_valid_full[my_cols].copy()\n",
    "X_test = X_test_full[my_cols].copy()"
   ]
  },
  {
   "cell_type": "code",
   "execution_count": 6,
   "id": "e01d33a2",
   "metadata": {
    "execution": {
     "iopub.execute_input": "2023-03-09T14:35:45.856634Z",
     "iopub.status.busy": "2023-03-09T14:35:45.855775Z",
     "iopub.status.idle": "2023-03-09T14:35:46.232206Z",
     "shell.execute_reply": "2023-03-09T14:35:46.230849Z"
    },
    "papermill": {
     "duration": 0.38386,
     "end_time": "2023-03-09T14:35:46.235111",
     "exception": false,
     "start_time": "2023-03-09T14:35:45.851251",
     "status": "completed"
    },
    "tags": []
   },
   "outputs": [],
   "source": [
    "from sklearn.compose import ColumnTransformer\n",
    "from sklearn.pipeline import Pipeline\n",
    "from sklearn.impute import SimpleImputer\n",
    "from sklearn.preprocessing import OneHotEncoder\n",
    "from xgboost import XGBRegressor\n",
    "from sklearn.metrics import mean_absolute_error\n",
    "from sklearn.model_selection import cross_val_score\n",
    "import multiprocessing\n",
    "from sklearn.model_selection import GridSearchCV"
   ]
  },
  {
   "cell_type": "code",
   "execution_count": 7,
   "id": "ddf21293",
   "metadata": {
    "execution": {
     "iopub.execute_input": "2023-03-09T14:35:46.243276Z",
     "iopub.status.busy": "2023-03-09T14:35:46.242837Z",
     "iopub.status.idle": "2023-03-09T14:35:46.249425Z",
     "shell.execute_reply": "2023-03-09T14:35:46.248243Z"
    },
    "papermill": {
     "duration": 0.013345,
     "end_time": "2023-03-09T14:35:46.251862",
     "exception": false,
     "start_time": "2023-03-09T14:35:46.238517",
     "status": "completed"
    },
    "tags": []
   },
   "outputs": [],
   "source": [
    "# Preprocessing for numerical data\n",
    "numerical_transformer = SimpleImputer(strategy='mean')\n",
    "\n",
    "# Preprocessing for categorical data\n",
    "categorical_transformer = Pipeline(steps=[\n",
    "    ('imputer', SimpleImputer(strategy='most_frequent')),\n",
    "    ('onehot', OneHotEncoder(handle_unknown='ignore'))\n",
    "])\n",
    "\n",
    "# Bundle preprocessing for numerical and categorical data\n",
    "preprocessor = ColumnTransformer(\n",
    "    transformers=[\n",
    "        ('num', numerical_transformer, numerical_cols),\n",
    "        ('cat', categorical_transformer, categorical_cols)\n",
    "    ])\n",
    "\n",
    "preprocessor.fit_transform(X_train)\n",
    "xt = preprocessor.transform(X_train)\n",
    "xv = preprocessor.transform(X_valid)"
   ]
  },
  {
   "cell_type": "code",
   "execution_count": 8,
   "id": "59007bf7",
   "metadata": {
    "execution": {
     "iopub.execute_input": "2023-03-09T14:35:46.260005Z",
     "iopub.status.busy": "2023-03-09T14:35:46.259601Z",
     "iopub.status.idle": "2023-03-09T14:35:57.122454Z",
     "shell.execute_reply": "2023-03-09T14:35:57.120689Z"
    },
    "papermill": {
     "duration": 10.870351,
     "end_time": "2023-03-09T14:35:57.125407",
     "exception": false,
     "start_time": "2023-03-09T14:35:46.255056",
     "status": "completed"
    },
    "tags": []
   },
   "outputs": [
    {
     "name": "stdout",
     "output_type": "stream",
     "text": [
      "Fitting 5 folds for each of 32 candidates, totalling 160 fits\n",
      "{'learning_rate': 0.05, 'max_depth': 6, 'n_estimators': 400}\n"
     ]
    }
   ],
   "source": [
    "# Define model\n",
    "model = XGBRegressor(n_jobs=multiprocessing.cpu_count()//2, tree_method='hist')\n",
    "\n",
    "clf = GridSearchCV(\n",
    "    model,\n",
    "    {'max_depth':[2,4,6,8],'n_estimators':[100,200,400,600], 'learning_rate':[0.05, 0.02]},\n",
    "    verbose=1,\n",
    ")\n",
    "\n",
    "clf.fit(xt, y_train)\n",
    "print(clf.best_params_)"
   ]
  },
  {
   "cell_type": "code",
   "execution_count": 17,
   "id": "3ba91560",
   "metadata": {},
   "outputs": [
    {
     "data": {
      "text/html": [
       "<style>#sk-container-id-3 {color: black;background-color: white;}#sk-container-id-3 pre{padding: 0;}#sk-container-id-3 div.sk-toggleable {background-color: white;}#sk-container-id-3 label.sk-toggleable__label {cursor: pointer;display: block;width: 100%;margin-bottom: 0;padding: 0.3em;box-sizing: border-box;text-align: center;}#sk-container-id-3 label.sk-toggleable__label-arrow:before {content: \"▸\";float: left;margin-right: 0.25em;color: #696969;}#sk-container-id-3 label.sk-toggleable__label-arrow:hover:before {color: black;}#sk-container-id-3 div.sk-estimator:hover label.sk-toggleable__label-arrow:before {color: black;}#sk-container-id-3 div.sk-toggleable__content {max-height: 0;max-width: 0;overflow: hidden;text-align: left;background-color: #f0f8ff;}#sk-container-id-3 div.sk-toggleable__content pre {margin: 0.2em;color: black;border-radius: 0.25em;background-color: #f0f8ff;}#sk-container-id-3 input.sk-toggleable__control:checked~div.sk-toggleable__content {max-height: 200px;max-width: 100%;overflow: auto;}#sk-container-id-3 input.sk-toggleable__control:checked~label.sk-toggleable__label-arrow:before {content: \"▾\";}#sk-container-id-3 div.sk-estimator input.sk-toggleable__control:checked~label.sk-toggleable__label {background-color: #d4ebff;}#sk-container-id-3 div.sk-label input.sk-toggleable__control:checked~label.sk-toggleable__label {background-color: #d4ebff;}#sk-container-id-3 input.sk-hidden--visually {border: 0;clip: rect(1px 1px 1px 1px);clip: rect(1px, 1px, 1px, 1px);height: 1px;margin: -1px;overflow: hidden;padding: 0;position: absolute;width: 1px;}#sk-container-id-3 div.sk-estimator {font-family: monospace;background-color: #f0f8ff;border: 1px dotted black;border-radius: 0.25em;box-sizing: border-box;margin-bottom: 0.5em;}#sk-container-id-3 div.sk-estimator:hover {background-color: #d4ebff;}#sk-container-id-3 div.sk-parallel-item::after {content: \"\";width: 100%;border-bottom: 1px solid gray;flex-grow: 1;}#sk-container-id-3 div.sk-label:hover label.sk-toggleable__label {background-color: #d4ebff;}#sk-container-id-3 div.sk-serial::before {content: \"\";position: absolute;border-left: 1px solid gray;box-sizing: border-box;top: 0;bottom: 0;left: 50%;z-index: 0;}#sk-container-id-3 div.sk-serial {display: flex;flex-direction: column;align-items: center;background-color: white;padding-right: 0.2em;padding-left: 0.2em;position: relative;}#sk-container-id-3 div.sk-item {position: relative;z-index: 1;}#sk-container-id-3 div.sk-parallel {display: flex;align-items: stretch;justify-content: center;background-color: white;position: relative;}#sk-container-id-3 div.sk-item::before, #sk-container-id-3 div.sk-parallel-item::before {content: \"\";position: absolute;border-left: 1px solid gray;box-sizing: border-box;top: 0;bottom: 0;left: 50%;z-index: -1;}#sk-container-id-3 div.sk-parallel-item {display: flex;flex-direction: column;z-index: 1;position: relative;background-color: white;}#sk-container-id-3 div.sk-parallel-item:first-child::after {align-self: flex-end;width: 50%;}#sk-container-id-3 div.sk-parallel-item:last-child::after {align-self: flex-start;width: 50%;}#sk-container-id-3 div.sk-parallel-item:only-child::after {width: 0;}#sk-container-id-3 div.sk-dashed-wrapped {border: 1px dashed gray;margin: 0 0.4em 0.5em 0.4em;box-sizing: border-box;padding-bottom: 0.4em;background-color: white;}#sk-container-id-3 div.sk-label label {font-family: monospace;font-weight: bold;display: inline-block;line-height: 1.2em;}#sk-container-id-3 div.sk-label-container {text-align: center;}#sk-container-id-3 div.sk-container {/* jupyter's `normalize.less` sets `[hidden] { display: none; }` but bootstrap.min.css set `[hidden] { display: none !important; }` so we also need the `!important` here to be able to override the default hidden behavior on the sphinx rendered scikit-learn.org. See: https://github.com/scikit-learn/scikit-learn/issues/21755 */display: inline-block !important;position: relative;}#sk-container-id-3 div.sk-text-repr-fallback {display: none;}</style><div id=\"sk-container-id-3\" class=\"sk-top-container\"><div class=\"sk-text-repr-fallback\"><pre>XGBRegressor(base_score=0.5, booster=&#x27;gbtree&#x27;, callbacks=None,\n",
       "             colsample_bylevel=1, colsample_bynode=1, colsample_bytree=1,\n",
       "             early_stopping_rounds=None, enable_categorical=False,\n",
       "             eval_metric=None, feature_types=None, gamma=0, gpu_id=-1,\n",
       "             grow_policy=&#x27;depthwise&#x27;, importance_type=None,\n",
       "             interaction_constraints=&#x27;&#x27;,\n",
       "             kwargs={&#x27;learning_rate&#x27;: 0.05, &#x27;max_depth&#x27;: 6,\n",
       "                     &#x27;n_estimators&#x27;: 400},\n",
       "             learning_rate=0.300000012, max_bin=256, max_cat_threshold=64,\n",
       "             max_cat_to_onehot=4, max_delta_step=0, max_depth=6, max_leaves=0,\n",
       "             min_child_weight=1, missing=nan, monotone_constraints=&#x27;()&#x27;,\n",
       "             n_estimators=100, n_jobs=0, num_parallel_tree=1, predictor=&#x27;auto&#x27;, ...)</pre><b>In a Jupyter environment, please rerun this cell to show the HTML representation or trust the notebook. <br />On GitHub, the HTML representation is unable to render, please try loading this page with nbviewer.org.</b></div><div class=\"sk-container\" hidden><div class=\"sk-item\"><div class=\"sk-estimator sk-toggleable\"><input class=\"sk-toggleable__control sk-hidden--visually\" id=\"sk-estimator-id-5\" type=\"checkbox\" checked><label for=\"sk-estimator-id-5\" class=\"sk-toggleable__label sk-toggleable__label-arrow\">XGBRegressor</label><div class=\"sk-toggleable__content\"><pre>XGBRegressor(base_score=0.5, booster=&#x27;gbtree&#x27;, callbacks=None,\n",
       "             colsample_bylevel=1, colsample_bynode=1, colsample_bytree=1,\n",
       "             early_stopping_rounds=None, enable_categorical=False,\n",
       "             eval_metric=None, feature_types=None, gamma=0, gpu_id=-1,\n",
       "             grow_policy=&#x27;depthwise&#x27;, importance_type=None,\n",
       "             interaction_constraints=&#x27;&#x27;,\n",
       "             kwargs={&#x27;learning_rate&#x27;: 0.05, &#x27;max_depth&#x27;: 6,\n",
       "                     &#x27;n_estimators&#x27;: 400},\n",
       "             learning_rate=0.300000012, max_bin=256, max_cat_threshold=64,\n",
       "             max_cat_to_onehot=4, max_delta_step=0, max_depth=6, max_leaves=0,\n",
       "             min_child_weight=1, missing=nan, monotone_constraints=&#x27;()&#x27;,\n",
       "             n_estimators=100, n_jobs=0, num_parallel_tree=1, predictor=&#x27;auto&#x27;, ...)</pre></div></div></div></div></div>"
      ],
      "text/plain": [
       "XGBRegressor(base_score=0.5, booster='gbtree', callbacks=None,\n",
       "             colsample_bylevel=1, colsample_bynode=1, colsample_bytree=1,\n",
       "             early_stopping_rounds=None, enable_categorical=False,\n",
       "             eval_metric=None, feature_types=None, gamma=0, gpu_id=-1,\n",
       "             grow_policy='depthwise', importance_type=None,\n",
       "             interaction_constraints='',\n",
       "             kwargs={'learning_rate': 0.05, 'max_depth': 6,\n",
       "                     'n_estimators': 400},\n",
       "             learning_rate=0.300000012, max_bin=256, max_cat_threshold=64,\n",
       "             max_cat_to_onehot=4, max_delta_step=0, max_depth=6, max_leaves=0,\n",
       "             min_child_weight=1, missing=nan, monotone_constraints='()',\n",
       "             n_estimators=100, n_jobs=0, num_parallel_tree=1, predictor='auto', ...)"
      ]
     },
     "execution_count": 17,
     "metadata": {},
     "output_type": "execute_result"
    }
   ],
   "source": [
    "best_model = XGBRegressor(kwargs=clf.best_params_)\n",
    "best_model.fit(xt, y_train)"
   ]
  },
  {
   "cell_type": "code",
   "execution_count": null,
   "id": "dd5bfb4b",
   "metadata": {},
   "outputs": [],
   "source": []
  },
  {
   "cell_type": "code",
   "execution_count": 18,
   "id": "1d9e8352",
   "metadata": {
    "execution": {
     "iopub.execute_input": "2023-03-09T14:35:57.135059Z",
     "iopub.status.busy": "2023-03-09T14:35:57.134643Z",
     "iopub.status.idle": "2023-03-09T14:35:57.205902Z",
     "shell.execute_reply": "2023-03-09T14:35:57.204605Z"
    },
    "papermill": {
     "duration": 0.079784,
     "end_time": "2023-03-09T14:35:57.209212",
     "exception": false,
     "start_time": "2023-03-09T14:35:57.129428",
     "status": "completed"
    },
    "tags": []
   },
   "outputs": [],
   "source": [
    "X_test_transformed = preprocessor.transform(X_test)\n",
    "preds_test = best_model.predict(X_test_transformed)\n",
    "output = pd.DataFrame({'Id': X_test.index,\n",
    "                       'SalePrice': preds_test})\n",
    "output.to_csv('submission2.csv', index=False)"
   ]
  },
  {
   "cell_type": "code",
   "execution_count": null,
   "id": "84e7d14b",
   "metadata": {
    "papermill": {
     "duration": 0.00306,
     "end_time": "2023-03-09T14:35:57.215807",
     "exception": false,
     "start_time": "2023-03-09T14:35:57.212747",
     "status": "completed"
    },
    "tags": []
   },
   "outputs": [],
   "source": [
    "# Bundle preprocessing and modeling code in a pipeline\n",
    "pipeline = Pipeline(steps=[('preprocessor', preprocessor),\n",
    "                      ('model', model)\n",
    "                     ])\n",
    "\n",
    "pipeline.fit(X_train, y_train)\n",
    "# Preprocessing of validation data, get predictions\n",
    "preds_valid = pipeline.predict(X_valid)\n",
    "\n",
    "print('MAE:', mean_absolute_error(y_valid, preds_valid))"
   ]
  }
 ],
 "metadata": {
  "kernelspec": {
   "display_name": "Python 3 (ipykernel)",
   "language": "python",
   "name": "python3"
  },
  "language_info": {
   "codemirror_mode": {
    "name": "ipython",
    "version": 3
   },
   "file_extension": ".py",
   "mimetype": "text/x-python",
   "name": "python",
   "nbconvert_exporter": "python",
   "pygments_lexer": "ipython3",
   "version": "3.10.0"
  },
  "papermill": {
   "default_parameters": {},
   "duration": 23.394221,
   "end_time": "2023-03-09T14:35:57.941791",
   "environment_variables": {},
   "exception": null,
   "input_path": "__notebook__.ipynb",
   "output_path": "__notebook__.ipynb",
   "parameters": {},
   "start_time": "2023-03-09T14:35:34.547570",
   "version": "2.4.0"
  }
 },
 "nbformat": 4,
 "nbformat_minor": 5
}
