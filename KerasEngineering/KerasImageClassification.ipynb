{
 "cells": [
  {
   "cell_type": "code",
   "execution_count": null,
   "id": "7f8c9700",
   "metadata": {},
   "outputs": [],
   "source": [
    "import tensorflow as tf\n",
    "from tensorflow import keras\n",
    "import numpy as np\n",
    "from tensorflow.keras.layers import Conv2D, MaxPooling2D, GlobalMaxPooling2D, Dense, Rescaling\n",
    "from sklearn.model_selection import train_test_split"
   ]
  },
  {
   "cell_type": "code",
   "execution_count": null,
   "id": "ac653a5b",
   "metadata": {},
   "outputs": [],
   "source": [
    "dataset_path = '/Users/neeraj/Datasets/Dobble/symbols/'"
   ]
  },
  {
   "cell_type": "code",
   "execution_count": null,
   "id": "07120062",
   "metadata": {},
   "outputs": [],
   "source": [
    "dataset = keras.utils.image_dataset_from_directory(\n",
    "    directory=dataset_path, batch_size=32, image_size=(128,128)\n",
    ")\n",
    "print(dataset.class_names)"
   ]
  },
  {
   "cell_type": "code",
   "execution_count": null,
   "id": "48b50c96",
   "metadata": {},
   "outputs": [],
   "source": [
    "for data, labels in dataset:\n",
    "    print(data.shape, data.dtype, end='\\t')\n",
    "    print(labels.shape, labels.dtype)\n",
    "    \n"
   ]
  },
  {
   "cell_type": "markdown",
   "id": "50e5083b",
   "metadata": {},
   "source": [
    "### Building the model with Keras Functional API"
   ]
  },
  {
   "cell_type": "code",
   "execution_count": null,
   "id": "a05883f8",
   "metadata": {},
   "outputs": [],
   "source": [
    "inputs = keras.Input(shape=(None, None, 3))\n",
    "\n",
    "# Resize the input images to match \n",
    "# Rescale the image data values by 255\n",
    "x = Rescaling(scale=1.0/255)(inputs)\n",
    "\n",
    "# Convolutional network\n",
    "x = Conv2D(filters=128, kernel_size=(3,3), activation='relu')(x)\n",
    "x = MaxPooling2D(pool_size=(3,3))(x)\n",
    "x = Conv2D(filters=64, kernel_size=(3,3), activation='relu')(x)\n",
    "x = MaxPooling2D(pool_size=(3,3))(x)\n",
    "x = Conv2D(filters=64, kernel_size=(3,3), activation='relu')(x)\n",
    "x = MaxPooling2D(pool_size=(3,3))(x)\n",
    "\n",
    "# Global Average pooling to get the flat vector\n",
    "x = GlobalMaxPooling2D()(x)\n",
    "\n",
    "num_classes = len(dataset.class_names)\n",
    "outputs = Dense(units=num_classes, activation='softmax')(x)\n",
    "\n",
    "model = keras.Model(inputs=inputs, outputs=outputs)"
   ]
  },
  {
   "cell_type": "code",
   "execution_count": null,
   "id": "126642ff",
   "metadata": {},
   "outputs": [],
   "source": [
    "model.summary()"
   ]
  },
  {
   "cell_type": "code",
   "execution_count": null,
   "id": "6a43c917",
   "metadata": {},
   "outputs": [],
   "source": [
    "model.compile(\n",
    "    optimizer=keras.optimizers.RMSprop(learning_rate=0.001),\n",
    "    loss=keras.losses.SparseCategoricalCrossentropy(),\n",
    "    run_eagerly=False,\n",
    "    metrics=['accuracy']\n",
    ")"
   ]
  },
  {
   "cell_type": "code",
   "execution_count": null,
   "id": "8a9fb758",
   "metadata": {},
   "outputs": [],
   "source": [
    "model.fit(dataset, epochs=10)"
   ]
  },
  {
   "cell_type": "code",
   "execution_count": null,
   "id": "4d6fae12",
   "metadata": {},
   "outputs": [],
   "source": [
    "loss, accuracy = model.evaluate(dataset)"
   ]
  },
  {
   "cell_type": "code",
   "execution_count": null,
   "id": "685b20bd",
   "metadata": {},
   "outputs": [],
   "source": [
    "print(f'Loss: {loss:0.2f}')\n",
    "print(f'Accuracy: {accuracy:0.2f}')"
   ]
  },
  {
   "cell_type": "code",
   "execution_count": null,
   "id": "d47b716e",
   "metadata": {},
   "outputs": [],
   "source": []
  }
 ],
 "metadata": {
  "kernelspec": {
   "display_name": "Python 3 (ipykernel)",
   "language": "python",
   "name": "python3"
  },
  "language_info": {
   "codemirror_mode": {
    "name": "ipython",
    "version": 3
   },
   "file_extension": ".py",
   "mimetype": "text/x-python",
   "name": "python",
   "nbconvert_exporter": "python",
   "pygments_lexer": "ipython3",
   "version": "3.10.0"
  }
 },
 "nbformat": 4,
 "nbformat_minor": 5
}
