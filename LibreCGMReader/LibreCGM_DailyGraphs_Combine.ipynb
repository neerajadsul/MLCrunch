{
 "cells": [
  {
   "cell_type": "markdown",
   "id": "f98cb967",
   "metadata": {},
   "source": [
    "# Utility to combine daily graphs of the Libre CGM into single page"
   ]
  },
  {
   "cell_type": "code",
   "execution_count": null,
   "id": "00e430e0",
   "metadata": {},
   "outputs": [],
   "source": [
    "import matplotlib.pyplot as plt\n",
    "from PIL import Image\n",
    "import os\n",
    "import glob"
   ]
  },
  {
   "cell_type": "markdown",
   "id": "2efe84cf",
   "metadata": {},
   "source": [
    "### The filenames should be date sortable so combine in correct order"
   ]
  },
  {
   "cell_type": "code",
   "execution_count": null,
   "id": "6a591fc5",
   "metadata": {},
   "outputs": [],
   "source": [
    "daily_graph_files_path = r'/Users/neeraj/Downloads/Ajit_LibreCGM_April2023/DailyGraphs/*.JPG'\n",
    "dg_files = glob.glob(daily_graph_files_path, recursive=False)\n",
    "dg_files.sort()"
   ]
  },
  {
   "cell_type": "markdown",
   "id": "6886dbb9",
   "metadata": {},
   "source": [
    "### Plots are 15 images spanned across 14 days and saves as a single high resolution pdf file"
   ]
  },
  {
   "cell_type": "code",
   "execution_count": null,
   "id": "430f03d3",
   "metadata": {},
   "outputs": [],
   "source": [
    "fig, ax = plt.subplots(3, 5, sharex=True, sharey=True, figsize=(15, 14))\n",
    "ax = ax.ravel()\n",
    "for n, dgf in enumerate(dg_files):\n",
    "    print(os.path.basename(dgf).split('.')[0])\n",
    "    img = plt.imread(dgf)\n",
    "    ax[n].imshow(img)\n",
    "fig.tight_layout(pad=-0.5, h_pad=-0.5, w_pad=-0.5)\n",
    "fig.savefig(\"Ajit_LibreCGM_April2023.pdf\", dpi=200)"
   ]
  },
  {
   "cell_type": "code",
   "execution_count": null,
   "id": "6b22a37f",
   "metadata": {},
   "outputs": [],
   "source": []
  }
 ],
 "metadata": {
  "kernelspec": {
   "display_name": "Python 3 (ipykernel)",
   "language": "python",
   "name": "python3"
  },
  "language_info": {
   "codemirror_mode": {
    "name": "ipython",
    "version": 3
   },
   "file_extension": ".py",
   "mimetype": "text/x-python",
   "name": "python",
   "nbconvert_exporter": "python",
   "pygments_lexer": "ipython3",
   "version": "3.10.0"
  }
 },
 "nbformat": 4,
 "nbformat_minor": 5
}
